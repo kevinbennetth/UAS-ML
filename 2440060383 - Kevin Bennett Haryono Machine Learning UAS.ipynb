{
  "cells": [
    {
      "cell_type": "markdown",
      "metadata": {
        "id": "d4WJ2qt1rz8l"
      },
      "source": [
        "# Machine Learning UAS\n",
        "## 2440060383 - Kevin Bennett Haryono\n",
        "\n",
        "To provide easeness in finding my answer for the UAS question, i marked a few text blocks with the question number in between brackets. For example:\n",
        "\n",
        "\"...Therefore, we should consider the other option. ***(1 a)***\"\n",
        "\n",
        "In case of this .ipynb fails, please refer to this google colab link https://colab.research.google.com/drive/1kyQlLNNGuojtbCR_ybSu8_EYS7exG2i2?usp=sharing"
      ]
    },
    {
      "cell_type": "code",
      "execution_count": 96,
      "metadata": {
        "id": "658oodUJq_P-"
      },
      "outputs": [],
      "source": [
        "import numpy as np\n",
        "import pandas as pd\n",
        "\n",
        "import matplotlib.pyplot as plt\n",
        "import matplotlib as mpl\n",
        "\n",
        "import seaborn as sns\n",
        "sns.set()\n",
        "\n",
        "import warnings\n",
        "warnings.filterwarnings('ignore')"
      ]
    },
    {
      "cell_type": "markdown",
      "metadata": {
        "id": "8wuizcxer2s8"
      },
      "source": [
        "## Import Data"
      ]
    },
    {
      "cell_type": "code",
      "execution_count": 97,
      "metadata": {
        "colab": {
          "base_uri": "https://localhost:8080/",
          "height": 424
        },
        "id": "1ZQvXiLXk-Rh",
        "outputId": "91d0fa6e-c836-46bb-cc3a-90e7b3b38043"
      },
      "outputs": [
        {
          "data": {
            "text/html": [
              "\n",
              "  <div id=\"df-a3eb38f9-a211-4fd0-b1ce-0e61ae45d8bf\">\n",
              "    <div class=\"colab-df-container\">\n",
              "      <div>\n",
              "<style scoped>\n",
              "    .dataframe tbody tr th:only-of-type {\n",
              "        vertical-align: middle;\n",
              "    }\n",
              "\n",
              "    .dataframe tbody tr th {\n",
              "        vertical-align: top;\n",
              "    }\n",
              "\n",
              "    .dataframe thead th {\n",
              "        text-align: right;\n",
              "    }\n",
              "</style>\n",
              "<table border=\"1\" class=\"dataframe\">\n",
              "  <thead>\n",
              "    <tr style=\"text-align: right;\">\n",
              "      <th></th>\n",
              "      <th>Age</th>\n",
              "      <th>Gender</th>\n",
              "      <th>OwnHome</th>\n",
              "      <th>Married</th>\n",
              "      <th>Location</th>\n",
              "      <th>Salary</th>\n",
              "      <th>Children</th>\n",
              "      <th>History</th>\n",
              "      <th>Catalogs</th>\n",
              "      <th>AmountSpent</th>\n",
              "    </tr>\n",
              "  </thead>\n",
              "  <tbody>\n",
              "    <tr>\n",
              "      <th>0</th>\n",
              "      <td>Young</td>\n",
              "      <td>Male</td>\n",
              "      <td>Rent</td>\n",
              "      <td>Single</td>\n",
              "      <td>Close</td>\n",
              "      <td>15000</td>\n",
              "      <td>3</td>\n",
              "      <td>Low</td>\n",
              "      <td>6</td>\n",
              "      <td>Low</td>\n",
              "    </tr>\n",
              "    <tr>\n",
              "      <th>1</th>\n",
              "      <td>Young</td>\n",
              "      <td>Male</td>\n",
              "      <td>Rent</td>\n",
              "      <td>Single</td>\n",
              "      <td>Close</td>\n",
              "      <td>13000</td>\n",
              "      <td>3</td>\n",
              "      <td>Low</td>\n",
              "      <td>6</td>\n",
              "      <td>Low</td>\n",
              "    </tr>\n",
              "    <tr>\n",
              "      <th>2</th>\n",
              "      <td>Young</td>\n",
              "      <td>Female</td>\n",
              "      <td>Rent</td>\n",
              "      <td>Single</td>\n",
              "      <td>Close</td>\n",
              "      <td>14600</td>\n",
              "      <td>3</td>\n",
              "      <td>Low</td>\n",
              "      <td>6</td>\n",
              "      <td>Low</td>\n",
              "    </tr>\n",
              "    <tr>\n",
              "      <th>3</th>\n",
              "      <td>Young</td>\n",
              "      <td>Female</td>\n",
              "      <td>Rent</td>\n",
              "      <td>Single</td>\n",
              "      <td>Close</td>\n",
              "      <td>17900</td>\n",
              "      <td>3</td>\n",
              "      <td>Low</td>\n",
              "      <td>6</td>\n",
              "      <td>Low</td>\n",
              "    </tr>\n",
              "    <tr>\n",
              "      <th>4</th>\n",
              "      <td>Old</td>\n",
              "      <td>Female</td>\n",
              "      <td>Own</td>\n",
              "      <td>Single</td>\n",
              "      <td>Close</td>\n",
              "      <td>12700</td>\n",
              "      <td>2</td>\n",
              "      <td>Low</td>\n",
              "      <td>6</td>\n",
              "      <td>Low</td>\n",
              "    </tr>\n",
              "    <tr>\n",
              "      <th>...</th>\n",
              "      <td>...</td>\n",
              "      <td>...</td>\n",
              "      <td>...</td>\n",
              "      <td>...</td>\n",
              "      <td>...</td>\n",
              "      <td>...</td>\n",
              "      <td>...</td>\n",
              "      <td>...</td>\n",
              "      <td>...</td>\n",
              "      <td>...</td>\n",
              "    </tr>\n",
              "    <tr>\n",
              "      <th>995</th>\n",
              "      <td>Middle</td>\n",
              "      <td>Female</td>\n",
              "      <td>Own</td>\n",
              "      <td>Married</td>\n",
              "      <td>Far</td>\n",
              "      <td>99200</td>\n",
              "      <td>0</td>\n",
              "      <td>High</td>\n",
              "      <td>24</td>\n",
              "      <td>Very High</td>\n",
              "    </tr>\n",
              "    <tr>\n",
              "      <th>996</th>\n",
              "      <td>Old</td>\n",
              "      <td>Female</td>\n",
              "      <td>Own</td>\n",
              "      <td>Married</td>\n",
              "      <td>Far</td>\n",
              "      <td>110000</td>\n",
              "      <td>0</td>\n",
              "      <td>High</td>\n",
              "      <td>24</td>\n",
              "      <td>Very High</td>\n",
              "    </tr>\n",
              "    <tr>\n",
              "      <th>997</th>\n",
              "      <td>Middle</td>\n",
              "      <td>Female</td>\n",
              "      <td>Rent</td>\n",
              "      <td>Married</td>\n",
              "      <td>Far</td>\n",
              "      <td>120800</td>\n",
              "      <td>1</td>\n",
              "      <td>High</td>\n",
              "      <td>24</td>\n",
              "      <td>Very High</td>\n",
              "    </tr>\n",
              "    <tr>\n",
              "      <th>998</th>\n",
              "      <td>Middle</td>\n",
              "      <td>Male</td>\n",
              "      <td>Own</td>\n",
              "      <td>Married</td>\n",
              "      <td>Far</td>\n",
              "      <td>123000</td>\n",
              "      <td>1</td>\n",
              "      <td>High</td>\n",
              "      <td>24</td>\n",
              "      <td>Very High</td>\n",
              "    </tr>\n",
              "    <tr>\n",
              "      <th>999</th>\n",
              "      <td>Old</td>\n",
              "      <td>Male</td>\n",
              "      <td>Own</td>\n",
              "      <td>Married</td>\n",
              "      <td>Far</td>\n",
              "      <td>112900</td>\n",
              "      <td>0</td>\n",
              "      <td>High</td>\n",
              "      <td>24</td>\n",
              "      <td>Very High</td>\n",
              "    </tr>\n",
              "  </tbody>\n",
              "</table>\n",
              "<p>1000 rows × 10 columns</p>\n",
              "</div>\n",
              "      <button class=\"colab-df-convert\" onclick=\"convertToInteractive('df-a3eb38f9-a211-4fd0-b1ce-0e61ae45d8bf')\"\n",
              "              title=\"Convert this dataframe to an interactive table.\"\n",
              "              style=\"display:none;\">\n",
              "        \n",
              "  <svg xmlns=\"http://www.w3.org/2000/svg\" height=\"24px\"viewBox=\"0 0 24 24\"\n",
              "       width=\"24px\">\n",
              "    <path d=\"M0 0h24v24H0V0z\" fill=\"none\"/>\n",
              "    <path d=\"M18.56 5.44l.94 2.06.94-2.06 2.06-.94-2.06-.94-.94-2.06-.94 2.06-2.06.94zm-11 1L8.5 8.5l.94-2.06 2.06-.94-2.06-.94L8.5 2.5l-.94 2.06-2.06.94zm10 10l.94 2.06.94-2.06 2.06-.94-2.06-.94-.94-2.06-.94 2.06-2.06.94z\"/><path d=\"M17.41 7.96l-1.37-1.37c-.4-.4-.92-.59-1.43-.59-.52 0-1.04.2-1.43.59L10.3 9.45l-7.72 7.72c-.78.78-.78 2.05 0 2.83L4 21.41c.39.39.9.59 1.41.59.51 0 1.02-.2 1.41-.59l7.78-7.78 2.81-2.81c.8-.78.8-2.07 0-2.86zM5.41 20L4 18.59l7.72-7.72 1.47 1.35L5.41 20z\"/>\n",
              "  </svg>\n",
              "      </button>\n",
              "      \n",
              "  <style>\n",
              "    .colab-df-container {\n",
              "      display:flex;\n",
              "      flex-wrap:wrap;\n",
              "      gap: 12px;\n",
              "    }\n",
              "\n",
              "    .colab-df-convert {\n",
              "      background-color: #E8F0FE;\n",
              "      border: none;\n",
              "      border-radius: 50%;\n",
              "      cursor: pointer;\n",
              "      display: none;\n",
              "      fill: #1967D2;\n",
              "      height: 32px;\n",
              "      padding: 0 0 0 0;\n",
              "      width: 32px;\n",
              "    }\n",
              "\n",
              "    .colab-df-convert:hover {\n",
              "      background-color: #E2EBFA;\n",
              "      box-shadow: 0px 1px 2px rgba(60, 64, 67, 0.3), 0px 1px 3px 1px rgba(60, 64, 67, 0.15);\n",
              "      fill: #174EA6;\n",
              "    }\n",
              "\n",
              "    [theme=dark] .colab-df-convert {\n",
              "      background-color: #3B4455;\n",
              "      fill: #D2E3FC;\n",
              "    }\n",
              "\n",
              "    [theme=dark] .colab-df-convert:hover {\n",
              "      background-color: #434B5C;\n",
              "      box-shadow: 0px 1px 3px 1px rgba(0, 0, 0, 0.15);\n",
              "      filter: drop-shadow(0px 1px 2px rgba(0, 0, 0, 0.3));\n",
              "      fill: #FFFFFF;\n",
              "    }\n",
              "  </style>\n",
              "\n",
              "      <script>\n",
              "        const buttonEl =\n",
              "          document.querySelector('#df-a3eb38f9-a211-4fd0-b1ce-0e61ae45d8bf button.colab-df-convert');\n",
              "        buttonEl.style.display =\n",
              "          google.colab.kernel.accessAllowed ? 'block' : 'none';\n",
              "\n",
              "        async function convertToInteractive(key) {\n",
              "          const element = document.querySelector('#df-a3eb38f9-a211-4fd0-b1ce-0e61ae45d8bf');\n",
              "          const dataTable =\n",
              "            await google.colab.kernel.invokeFunction('convertToInteractive',\n",
              "                                                     [key], {});\n",
              "          if (!dataTable) return;\n",
              "\n",
              "          const docLinkHtml = 'Like what you see? Visit the ' +\n",
              "            '<a target=\"_blank\" href=https://colab.research.google.com/notebooks/data_table.ipynb>data table notebook</a>'\n",
              "            + ' to learn more about interactive tables.';\n",
              "          element.innerHTML = '';\n",
              "          dataTable['output_type'] = 'display_data';\n",
              "          await google.colab.output.renderOutput(dataTable, element);\n",
              "          const docLink = document.createElement('div');\n",
              "          docLink.innerHTML = docLinkHtml;\n",
              "          element.appendChild(docLink);\n",
              "        }\n",
              "      </script>\n",
              "    </div>\n",
              "  </div>\n",
              "  "
            ],
            "text/plain": [
              "        Age  Gender OwnHome  Married Location  Salary  Children History  \\\n",
              "0     Young    Male    Rent   Single    Close   15000         3     Low   \n",
              "1     Young    Male    Rent   Single    Close   13000         3     Low   \n",
              "2     Young  Female    Rent   Single    Close   14600         3     Low   \n",
              "3     Young  Female    Rent   Single    Close   17900         3     Low   \n",
              "4       Old  Female     Own   Single    Close   12700         2     Low   \n",
              "..      ...     ...     ...      ...      ...     ...       ...     ...   \n",
              "995  Middle  Female     Own  Married      Far   99200         0    High   \n",
              "996     Old  Female     Own  Married      Far  110000         0    High   \n",
              "997  Middle  Female    Rent  Married      Far  120800         1    High   \n",
              "998  Middle    Male     Own  Married      Far  123000         1    High   \n",
              "999     Old    Male     Own  Married      Far  112900         0    High   \n",
              "\n",
              "     Catalogs AmountSpent  \n",
              "0           6         Low  \n",
              "1           6         Low  \n",
              "2           6         Low  \n",
              "3           6         Low  \n",
              "4           6         Low  \n",
              "..        ...         ...  \n",
              "995        24   Very High  \n",
              "996        24   Very High  \n",
              "997        24   Very High  \n",
              "998        24   Very High  \n",
              "999        24   Very High  \n",
              "\n",
              "[1000 rows x 10 columns]"
            ]
          },
          "execution_count": 97,
          "metadata": {},
          "output_type": "execute_result"
        }
      ],
      "source": [
        "df = pd.read_csv('/Dataset/CustomerMarketingDataset.csv')\n",
        "df"
      ]
    },
    {
      "cell_type": "code",
      "execution_count": 98,
      "metadata": {
        "colab": {
          "base_uri": "https://localhost:8080/"
        },
        "id": "vJWFH885wmQX",
        "outputId": "6bc46532-57be-48d2-ae98-7abf99ac6fa3"
      },
      "outputs": [
        {
          "name": "stdout",
          "output_type": "stream",
          "text": [
            "<class 'pandas.core.frame.DataFrame'>\n",
            "RangeIndex: 1000 entries, 0 to 999\n",
            "Data columns (total 10 columns):\n",
            " #   Column       Non-Null Count  Dtype \n",
            "---  ------       --------------  ----- \n",
            " 0   Age          1000 non-null   object\n",
            " 1   Gender       1000 non-null   object\n",
            " 2   OwnHome      1000 non-null   object\n",
            " 3   Married      1000 non-null   object\n",
            " 4   Location     1000 non-null   object\n",
            " 5   Salary       1000 non-null   int64 \n",
            " 6   Children     1000 non-null   int64 \n",
            " 7   History      697 non-null    object\n",
            " 8   Catalogs     1000 non-null   int64 \n",
            " 9   AmountSpent  1000 non-null   object\n",
            "dtypes: int64(3), object(7)\n",
            "memory usage: 78.2+ KB\n"
          ]
        }
      ],
      "source": [
        "df.info()"
      ]
    },
    {
      "cell_type": "code",
      "execution_count": 99,
      "metadata": {
        "colab": {
          "base_uri": "https://localhost:8080/",
          "height": 300
        },
        "id": "3ViYnJgfwnoB",
        "outputId": "d8c74034-e4c3-4c95-9449-b17410a9b231"
      },
      "outputs": [
        {
          "data": {
            "text/html": [
              "\n",
              "  <div id=\"df-cae52fde-f6dd-40dd-a72b-d84f3f125832\">\n",
              "    <div class=\"colab-df-container\">\n",
              "      <div>\n",
              "<style scoped>\n",
              "    .dataframe tbody tr th:only-of-type {\n",
              "        vertical-align: middle;\n",
              "    }\n",
              "\n",
              "    .dataframe tbody tr th {\n",
              "        vertical-align: top;\n",
              "    }\n",
              "\n",
              "    .dataframe thead th {\n",
              "        text-align: right;\n",
              "    }\n",
              "</style>\n",
              "<table border=\"1\" class=\"dataframe\">\n",
              "  <thead>\n",
              "    <tr style=\"text-align: right;\">\n",
              "      <th></th>\n",
              "      <th>Salary</th>\n",
              "      <th>Children</th>\n",
              "      <th>Catalogs</th>\n",
              "    </tr>\n",
              "  </thead>\n",
              "  <tbody>\n",
              "    <tr>\n",
              "      <th>count</th>\n",
              "      <td>1000.000000</td>\n",
              "      <td>1000.00000</td>\n",
              "      <td>1000.000000</td>\n",
              "    </tr>\n",
              "    <tr>\n",
              "      <th>mean</th>\n",
              "      <td>56103.900000</td>\n",
              "      <td>0.93400</td>\n",
              "      <td>14.682000</td>\n",
              "    </tr>\n",
              "    <tr>\n",
              "      <th>std</th>\n",
              "      <td>30616.314826</td>\n",
              "      <td>1.05107</td>\n",
              "      <td>6.622895</td>\n",
              "    </tr>\n",
              "    <tr>\n",
              "      <th>min</th>\n",
              "      <td>10100.000000</td>\n",
              "      <td>0.00000</td>\n",
              "      <td>6.000000</td>\n",
              "    </tr>\n",
              "    <tr>\n",
              "      <th>25%</th>\n",
              "      <td>29975.000000</td>\n",
              "      <td>0.00000</td>\n",
              "      <td>6.000000</td>\n",
              "    </tr>\n",
              "    <tr>\n",
              "      <th>50%</th>\n",
              "      <td>53700.000000</td>\n",
              "      <td>1.00000</td>\n",
              "      <td>12.000000</td>\n",
              "    </tr>\n",
              "    <tr>\n",
              "      <th>75%</th>\n",
              "      <td>77025.000000</td>\n",
              "      <td>2.00000</td>\n",
              "      <td>18.000000</td>\n",
              "    </tr>\n",
              "    <tr>\n",
              "      <th>max</th>\n",
              "      <td>168800.000000</td>\n",
              "      <td>3.00000</td>\n",
              "      <td>24.000000</td>\n",
              "    </tr>\n",
              "  </tbody>\n",
              "</table>\n",
              "</div>\n",
              "      <button class=\"colab-df-convert\" onclick=\"convertToInteractive('df-cae52fde-f6dd-40dd-a72b-d84f3f125832')\"\n",
              "              title=\"Convert this dataframe to an interactive table.\"\n",
              "              style=\"display:none;\">\n",
              "        \n",
              "  <svg xmlns=\"http://www.w3.org/2000/svg\" height=\"24px\"viewBox=\"0 0 24 24\"\n",
              "       width=\"24px\">\n",
              "    <path d=\"M0 0h24v24H0V0z\" fill=\"none\"/>\n",
              "    <path d=\"M18.56 5.44l.94 2.06.94-2.06 2.06-.94-2.06-.94-.94-2.06-.94 2.06-2.06.94zm-11 1L8.5 8.5l.94-2.06 2.06-.94-2.06-.94L8.5 2.5l-.94 2.06-2.06.94zm10 10l.94 2.06.94-2.06 2.06-.94-2.06-.94-.94-2.06-.94 2.06-2.06.94z\"/><path d=\"M17.41 7.96l-1.37-1.37c-.4-.4-.92-.59-1.43-.59-.52 0-1.04.2-1.43.59L10.3 9.45l-7.72 7.72c-.78.78-.78 2.05 0 2.83L4 21.41c.39.39.9.59 1.41.59.51 0 1.02-.2 1.41-.59l7.78-7.78 2.81-2.81c.8-.78.8-2.07 0-2.86zM5.41 20L4 18.59l7.72-7.72 1.47 1.35L5.41 20z\"/>\n",
              "  </svg>\n",
              "      </button>\n",
              "      \n",
              "  <style>\n",
              "    .colab-df-container {\n",
              "      display:flex;\n",
              "      flex-wrap:wrap;\n",
              "      gap: 12px;\n",
              "    }\n",
              "\n",
              "    .colab-df-convert {\n",
              "      background-color: #E8F0FE;\n",
              "      border: none;\n",
              "      border-radius: 50%;\n",
              "      cursor: pointer;\n",
              "      display: none;\n",
              "      fill: #1967D2;\n",
              "      height: 32px;\n",
              "      padding: 0 0 0 0;\n",
              "      width: 32px;\n",
              "    }\n",
              "\n",
              "    .colab-df-convert:hover {\n",
              "      background-color: #E2EBFA;\n",
              "      box-shadow: 0px 1px 2px rgba(60, 64, 67, 0.3), 0px 1px 3px 1px rgba(60, 64, 67, 0.15);\n",
              "      fill: #174EA6;\n",
              "    }\n",
              "\n",
              "    [theme=dark] .colab-df-convert {\n",
              "      background-color: #3B4455;\n",
              "      fill: #D2E3FC;\n",
              "    }\n",
              "\n",
              "    [theme=dark] .colab-df-convert:hover {\n",
              "      background-color: #434B5C;\n",
              "      box-shadow: 0px 1px 3px 1px rgba(0, 0, 0, 0.15);\n",
              "      filter: drop-shadow(0px 1px 2px rgba(0, 0, 0, 0.3));\n",
              "      fill: #FFFFFF;\n",
              "    }\n",
              "  </style>\n",
              "\n",
              "      <script>\n",
              "        const buttonEl =\n",
              "          document.querySelector('#df-cae52fde-f6dd-40dd-a72b-d84f3f125832 button.colab-df-convert');\n",
              "        buttonEl.style.display =\n",
              "          google.colab.kernel.accessAllowed ? 'block' : 'none';\n",
              "\n",
              "        async function convertToInteractive(key) {\n",
              "          const element = document.querySelector('#df-cae52fde-f6dd-40dd-a72b-d84f3f125832');\n",
              "          const dataTable =\n",
              "            await google.colab.kernel.invokeFunction('convertToInteractive',\n",
              "                                                     [key], {});\n",
              "          if (!dataTable) return;\n",
              "\n",
              "          const docLinkHtml = 'Like what you see? Visit the ' +\n",
              "            '<a target=\"_blank\" href=https://colab.research.google.com/notebooks/data_table.ipynb>data table notebook</a>'\n",
              "            + ' to learn more about interactive tables.';\n",
              "          element.innerHTML = '';\n",
              "          dataTable['output_type'] = 'display_data';\n",
              "          await google.colab.output.renderOutput(dataTable, element);\n",
              "          const docLink = document.createElement('div');\n",
              "          docLink.innerHTML = docLinkHtml;\n",
              "          element.appendChild(docLink);\n",
              "        }\n",
              "      </script>\n",
              "    </div>\n",
              "  </div>\n",
              "  "
            ],
            "text/plain": [
              "              Salary    Children     Catalogs\n",
              "count    1000.000000  1000.00000  1000.000000\n",
              "mean    56103.900000     0.93400    14.682000\n",
              "std     30616.314826     1.05107     6.622895\n",
              "min     10100.000000     0.00000     6.000000\n",
              "25%     29975.000000     0.00000     6.000000\n",
              "50%     53700.000000     1.00000    12.000000\n",
              "75%     77025.000000     2.00000    18.000000\n",
              "max    168800.000000     3.00000    24.000000"
            ]
          },
          "execution_count": 99,
          "metadata": {},
          "output_type": "execute_result"
        }
      ],
      "source": [
        "df.describe()"
      ]
    },
    {
      "cell_type": "markdown",
      "metadata": {
        "id": "iUV7L-oPymjQ"
      },
      "source": [
        "This dataset consist of 10 columns, some columns can be used for prediction, such as age group classification, salary prediction, etc. But the dataset is a perfect fit for customer segmentation (clustering problem), as requested in the question. Note that only the column `History` has missing values that we would want to fix later. ***(1 a)***"
      ]
    },
    {
      "cell_type": "markdown",
      "metadata": {
        "id": "9YSQKh-Pr7FL"
      },
      "source": [
        "## EDA"
      ]
    },
    {
      "cell_type": "markdown",
      "metadata": {
        "id": "-VUow7CWzJFp"
      },
      "source": [
        "We will explore the data thoroughly to get a sense of it."
      ]
    },
    {
      "cell_type": "markdown",
      "metadata": {
        "id": "_d7PH7YG8VsT"
      },
      "source": [
        "### Univariate Analysis"
      ]
    },
    {
      "cell_type": "markdown",
      "metadata": {
        "id": "ErC66Xw00l3C"
      },
      "source": [
        "#### Numerical Variables Distribution"
      ]
    },
    {
      "cell_type": "markdown",
      "metadata": {
        "id": "wVpTxZVS0s38"
      },
      "source": [
        "Note that there are only 2 numerical variable present, which are `Salary` and `Children`. Meanwhile, `Catalogs` columns are categorical due to the less varying values and more to a discrete variables."
      ]
    },
    {
      "cell_type": "code",
      "execution_count": 100,
      "metadata": {
        "colab": {
          "base_uri": "https://localhost:8080/",
          "height": 683
        },
        "id": "ng4tw9ok0sJW",
        "outputId": "7dea7f66-0ee2-482d-9db2-bf79fd2b349f"
      },
      "outputs": [
        {
          "data": {
            "image/png": "[encoded data removed]",
            "text/plain": [
              "<Figure size 1152x720 with 4 Axes>"
            ]
          },
          "metadata": {},
          "output_type": "display_data"
        }
      ],
      "source": [
        "fig, ax = plt.subplots(nrows=2, ncols=2, figsize=(16,10))\n",
        "\n",
        "sns.histplot(data=df,\n",
        "            x='Salary',\n",
        "            ax=ax[0][0],\n",
        "            bins=16,\n",
        "            kde=True)\n",
        "\n",
        "sns.boxplot(data=df,\n",
        "            ax=ax[0][1],\n",
        "            x='Salary')\n",
        "\n",
        "sns.kdeplot(data=df,\n",
        "             x='Children',\n",
        "             ax=ax[1][0])\n",
        "\n",
        "sns.countplot(data=df,\n",
        "             x='Children',\n",
        "             ax=ax[1][1])\n",
        "\n",
        "fig.suptitle('Salary Distribution')\n",
        "plt.show()"
      ]
    },
    {
      "cell_type": "markdown",
      "metadata": {
        "id": "1YixOBqp5bsV"
      },
      "source": [
        "There is a few outliers present in the `Salary` column, it will be removed so that clustering/predictive model later on won't be biased. ***(1 a)***"
      ]
    },
    {
      "cell_type": "markdown",
      "metadata": {
        "id": "Q60EGq40yU0A"
      },
      "source": [
        "#### Categorical Variables Unique Values"
      ]
    },
    {
      "cell_type": "markdown",
      "metadata": {
        "id": "9HWf3ArFzJQT"
      },
      "source": [
        "We will take a closer look at the values within the categorical columns, usually there are some garbage/NA values that is hidden (not represented in pandas nan)."
      ]
    },
    {
      "cell_type": "code",
      "execution_count": 101,
      "metadata": {
        "colab": {
          "base_uri": "https://localhost:8080/"
        },
        "id": "wSXO7gL_0I2f",
        "outputId": "eea3a29b-c485-4cb6-f76e-81aac9d182d4"
      },
      "outputs": [
        {
          "data": {
            "text/plain": [
              "['Age',\n",
              " 'Gender',\n",
              " 'OwnHome',\n",
              " 'Married',\n",
              " 'Location',\n",
              " 'History',\n",
              " 'AmountSpent',\n",
              " 'Catalogs']"
            ]
          },
          "execution_count": 101,
          "metadata": {},
          "output_type": "execute_result"
        }
      ],
      "source": [
        "cat_cols = [x for x in df.columns if df[x].dtype=='O']\n",
        "cat_cols.append('Catalogs')\n",
        "cat_cols"
      ]
    },
    {
      "cell_type": "code",
      "execution_count": 102,
      "metadata": {
        "colab": {
          "base_uri": "https://localhost:8080/"
        },
        "id": "58ZWvzCfyalo",
        "outputId": "c4e6d900-6349-441d-8a87-1dd71e022468"
      },
      "outputs": [
        {
          "name": "stdout",
          "output_type": "stream",
          "text": [
            "Age: ['Young', 'Old', 'Middle']\n",
            "Gender: ['Male', 'Female']\n",
            "OwnHome: ['Rent', 'Own']\n",
            "Married: ['Single', 'Married']\n",
            "Location: ['Close', 'Far']\n",
            "History: ['Low', nan, 'Medium', 'High']\n",
            "AmountSpent: ['Low', 'Medium', 'High', 'Very High']\n",
            "Catalogs: [6, 12, 18, 24]\n"
          ]
        }
      ],
      "source": [
        "for cat in cat_cols:\n",
        "  print(cat + \": \" + str(list(df[cat].unique())))"
      ]
    },
    {
      "cell_type": "markdown",
      "metadata": {
        "id": "m_o5Afr-zXQ0"
      },
      "source": [
        "Looks like the values are all safe, nans are represented as it is, specifically in column `History` ***(1 a)***."
      ]
    },
    {
      "cell_type": "markdown",
      "metadata": {
        "id": "ccKSSYol0Cg_"
      },
      "source": [
        "#### Categorical Variables Distribution"
      ]
    },
    {
      "cell_type": "code",
      "execution_count": 103,
      "metadata": {
        "colab": {
          "base_uri": "https://localhost:8080/",
          "height": 991
        },
        "id": "j3uKf4At6Hx_",
        "outputId": "e2df4619-c1cc-49b9-a552-10a3a7bc624b"
      },
      "outputs": [
        {
          "data": {
            "image/png": "[encoded data removed]",
            "text/plain": [
              "<Figure size 1296x1080 with 8 Axes>"
            ]
          },
          "metadata": {},
          "output_type": "display_data"
        }
      ],
      "source": [
        "fig, ax = plt.subplots(3,3, figsize=(18,15))\n",
        "\n",
        "fig.delaxes(ax[2][2])\n",
        "\n",
        "col=-1\n",
        "for i,cat in enumerate(cat_cols):\n",
        "  if i%3==0:\n",
        "    col+=1\n",
        "  \n",
        "  sns.histplot(data=df,\n",
        "               x=cat,\n",
        "               ax=ax[i%3][col])\n",
        "  \n",
        "fig.suptitle('Categorical Variables Distribution')\n",
        "plt.show()"
      ]
    },
    {
      "cell_type": "markdown",
      "metadata": {
        "id": "qlusAoTE78nk"
      },
      "source": [
        "Most of the categorical columns have evenly distributed classes. But, columns `Location` and `Age` have \"Middle\" and \"Far\" with the most counts respectively. This can make most models biased to that one major class only as information on the other minor classes are lackin in the dataset. ***(1 a)***"
      ]
    },
    {
      "cell_type": "markdown",
      "metadata": {
        "id": "WMLRte7J0491"
      },
      "source": [
        "### Bivariate Analysis\n",
        "This section will analyze a few relationships between variables as per requested in number ***(1 b)***. Here I used violin plot so that we can see thoroughly how distributed a variable when separated into each of the other variable."
      ]
    },
    {
      "cell_type": "markdown",
      "metadata": {
        "id": "wGur_kNR9Sk3"
      },
      "source": [
        "#### Age and Salary"
      ]
    },
    {
      "cell_type": "code",
      "execution_count": 104,
      "metadata": {
        "colab": {
          "base_uri": "https://localhost:8080/",
          "height": 518
        },
        "id": "2ZSJ2kac079u",
        "outputId": "8f92086c-ce47-47de-a38b-c9d7e8cdd492"
      },
      "outputs": [
        {
          "data": {
            "image/png": "[encoded data removed]",
            "text/plain": [
              "<Figure size 432x576 with 1 Axes>"
            ]
          },
          "metadata": {},
          "output_type": "display_data"
        }
      ],
      "source": [
        "fig, ax = plt.subplots(figsize=(6,8))\n",
        "\n",
        "sns.violinplot(data=df,\n",
        "            x='Age',\n",
        "            y='Salary')\n",
        "\n",
        "ax.set_title('Age vs. Salary')\n",
        "plt.show()"
      ]
    },
    {
      "cell_type": "markdown",
      "metadata": {
        "id": "SLMCwEKAAKUp"
      },
      "source": [
        "The distribution of salary per age is definitely logical as seen in the violin plot above. Young customers here might refer to people who are working entry-level jobs, part-timers, or internships, meaning lesser salary compared to Middle aged customers, who are more experienced and probably is in senior-level jobs. As for Old customers, they most likely live on pension/retirement funds (explains the distribution is in lower salary points), own a business or CEO-level jobs (explains the sharp point reaching over 175000 in salary)."
      ]
    },
    {
      "cell_type": "markdown",
      "metadata": {
        "id": "h4UQIhIl9nSb"
      },
      "source": [
        "#### Marital Status and Salary"
      ]
    },
    {
      "cell_type": "code",
      "execution_count": 105,
      "metadata": {
        "colab": {
          "base_uri": "https://localhost:8080/",
          "height": 518
        },
        "id": "osAuY2OA9vW7",
        "outputId": "83a69f84-2d57-421b-863c-82307113a4ee"
      },
      "outputs": [
        {
          "data": {
            "image/png": "[encoded data removed]",
            "text/plain": [
              "<Figure size 432x576 with 1 Axes>"
            ]
          },
          "metadata": {},
          "output_type": "display_data"
        }
      ],
      "source": [
        "fig, ax = plt.subplots(figsize=(6,8))\n",
        "\n",
        "sns.violinplot(data=df,\n",
        "            x='Married',\n",
        "            y='Salary')\n",
        "\n",
        "ax.set_title('Age vs. Salary')\n",
        "plt.show()"
      ]
    },
    {
      "cell_type": "markdown",
      "metadata": {
        "id": "v07NpFjzBWuQ"
      },
      "source": [
        "This relationship is a bit unique, because initially I thought that married customers might have lesser \"personal\" salary as they have to fund their family. But the plot shows otherwise, single customers have lesser salary, this might be because either the salary data accounts for both married couple salaries, or might be because of married customers are more financially stable compared to single customers (which makes sense in most cases of marriage)."
      ]
    },
    {
      "cell_type": "markdown",
      "metadata": {
        "id": "6LMtWJPi9una"
      },
      "source": [
        "#### Salary and AmountSpent"
      ]
    },
    {
      "cell_type": "code",
      "execution_count": 106,
      "metadata": {
        "colab": {
          "base_uri": "https://localhost:8080/",
          "height": 518
        },
        "id": "lgT_pCT192CL",
        "outputId": "b9a9170f-d8cb-497d-a8dc-1e6abc9aab18"
      },
      "outputs": [
        {
          "data": {
            "image/png": "[encoded data removed]",
            "text/plain": [
              "<Figure size 432x576 with 1 Axes>"
            ]
          },
          "metadata": {},
          "output_type": "display_data"
        }
      ],
      "source": [
        "fig, ax = plt.subplots(figsize=(6,8))\n",
        "\n",
        "sns.violinplot(data=df,\n",
        "            x='AmountSpent',\n",
        "            y='Salary')\n",
        "\n",
        "ax.set_title('Age vs. Salary')\n",
        "plt.show()"
      ]
    },
    {
      "cell_type": "markdown",
      "metadata": {
        "id": "WK2gJ4OOCICp"
      },
      "source": [
        "The relationship between `Salary` and `AmountSpent` is pretty much self-explanatory and logical too. People would consider a lot when buying items when they have lesser income, therefore explains the dense area in lower salary having more customers categorized in \"Low\" amount spent. And the salary progressively increases per category too. Customers having a higher income potentially resulted in them spending more to buy things in the department store."
      ]
    },
    {
      "cell_type": "markdown",
      "metadata": {
        "id": "z8H9DSDwr8-d"
      },
      "source": [
        "### Data Preparation"
      ]
    },
    {
      "cell_type": "markdown",
      "metadata": {
        "id": "t5H6EYSEC80s"
      },
      "source": [
        "#### Preprocessing ***(1 c)***"
      ]
    },
    {
      "cell_type": "markdown",
      "metadata": {
        "id": "4xxRSU0kmlHa"
      },
      "source": [
        "##### Imputing Missing Values\n",
        "Firstly, let's not remove the NA values that we found out at the beginning, `History` column contains customer's purchase volume history data. We can assume that the null values are customer who has no volume history. By imputing with values that makes sense, we can preserve more information from the dataset instead of removing it."
      ]
    },
    {
      "cell_type": "code",
      "execution_count": 107,
      "metadata": {
        "id": "FAdx-MXNsAy0"
      },
      "outputs": [],
      "source": [
        "df_prep = df.fillna('None')"
      ]
    },
    {
      "cell_type": "code",
      "execution_count": 108,
      "metadata": {
        "colab": {
          "base_uri": "https://localhost:8080/"
        },
        "id": "kgxufBD1zuWt",
        "outputId": "b5613e1e-154d-4b2a-b006-235298d5bd4e"
      },
      "outputs": [
        {
          "name": "stdout",
          "output_type": "stream",
          "text": [
            "<class 'pandas.core.frame.DataFrame'>\n",
            "RangeIndex: 1000 entries, 0 to 999\n",
            "Data columns (total 10 columns):\n",
            " #   Column       Non-Null Count  Dtype \n",
            "---  ------       --------------  ----- \n",
            " 0   Age          1000 non-null   object\n",
            " 1   Gender       1000 non-null   object\n",
            " 2   OwnHome      1000 non-null   object\n",
            " 3   Married      1000 non-null   object\n",
            " 4   Location     1000 non-null   object\n",
            " 5   Salary       1000 non-null   int64 \n",
            " 6   Children     1000 non-null   int64 \n",
            " 7   History      1000 non-null   object\n",
            " 8   Catalogs     1000 non-null   int64 \n",
            " 9   AmountSpent  1000 non-null   object\n",
            "dtypes: int64(3), object(7)\n",
            "memory usage: 78.2+ KB\n"
          ]
        }
      ],
      "source": [
        "df_prep.info()"
      ]
    },
    {
      "cell_type": "markdown",
      "metadata": {
        "id": "6QSYQtCBzw_2"
      },
      "source": [
        "We have successfully filled the `History` columns with the string 'None'"
      ]
    },
    {
      "cell_type": "markdown",
      "metadata": {
        "id": "c-H9YFy3rXsr"
      },
      "source": [
        "##### Scale Numerical Columns\n",
        "Next is scaling numerical columns, which `Salary` is the only available column. Scaling numerical values helps in model training so that it is not biased, faster, and also potentially avoid vanishing gradient problem in some specific cases.\n",
        "\n",
        "Here I picked StandardScaler, since it is commonly used for scaling numerical values. StandardScaler practically removes mean and scales the value to follow the data variance."
      ]
    },
    {
      "cell_type": "code",
      "execution_count": 109,
      "metadata": {
        "id": "KRXQI3zDrePH"
      },
      "outputs": [],
      "source": [
        "from sklearn.preprocessing import StandardScaler\n",
        "\n",
        "sc = StandardScaler()\n",
        "\n",
        "salary = np.array(df_prep['Salary']).reshape(-1,1) # Standard Scaler requests for 2D input\n",
        "df_prep['Salary'] = sc.fit_transform(salary)"
      ]
    },
    {
      "cell_type": "code",
      "execution_count": 110,
      "metadata": {
        "colab": {
          "base_uri": "https://localhost:8080/",
          "height": 424
        },
        "id": "W0EkJrUS2rGD",
        "outputId": "64323474-c91b-4012-aa92-7c77518fff20"
      },
      "outputs": [
        {
          "data": {
            "text/html": [
              "\n",
              "  <div id=\"df-ebf5154c-166f-4b57-94b4-d327e2047636\">\n",
              "    <div class=\"colab-df-container\">\n",
              "      <div>\n",
              "<style scoped>\n",
              "    .dataframe tbody tr th:only-of-type {\n",
              "        vertical-align: middle;\n",
              "    }\n",
              "\n",
              "    .dataframe tbody tr th {\n",
              "        vertical-align: top;\n",
              "    }\n",
              "\n",
              "    .dataframe thead th {\n",
              "        text-align: right;\n",
              "    }\n",
              "</style>\n",
              "<table border=\"1\" class=\"dataframe\">\n",
              "  <thead>\n",
              "    <tr style=\"text-align: right;\">\n",
              "      <th></th>\n",
              "      <th>Age</th>\n",
              "      <th>Gender</th>\n",
              "      <th>OwnHome</th>\n",
              "      <th>Married</th>\n",
              "      <th>Location</th>\n",
              "      <th>Salary</th>\n",
              "      <th>Children</th>\n",
              "      <th>History</th>\n",
              "      <th>Catalogs</th>\n",
              "      <th>AmountSpent</th>\n",
              "    </tr>\n",
              "  </thead>\n",
              "  <tbody>\n",
              "    <tr>\n",
              "      <th>0</th>\n",
              "      <td>Young</td>\n",
              "      <td>Male</td>\n",
              "      <td>Rent</td>\n",
              "      <td>Single</td>\n",
              "      <td>Close</td>\n",
              "      <td>-1.343221</td>\n",
              "      <td>3</td>\n",
              "      <td>Low</td>\n",
              "      <td>6</td>\n",
              "      <td>Low</td>\n",
              "    </tr>\n",
              "    <tr>\n",
              "      <th>1</th>\n",
              "      <td>Young</td>\n",
              "      <td>Male</td>\n",
              "      <td>Rent</td>\n",
              "      <td>Single</td>\n",
              "      <td>Close</td>\n",
              "      <td>-1.408578</td>\n",
              "      <td>3</td>\n",
              "      <td>Low</td>\n",
              "      <td>6</td>\n",
              "      <td>Low</td>\n",
              "    </tr>\n",
              "    <tr>\n",
              "      <th>2</th>\n",
              "      <td>Young</td>\n",
              "      <td>Female</td>\n",
              "      <td>Rent</td>\n",
              "      <td>Single</td>\n",
              "      <td>Close</td>\n",
              "      <td>-1.356292</td>\n",
              "      <td>3</td>\n",
              "      <td>Low</td>\n",
              "      <td>6</td>\n",
              "      <td>Low</td>\n",
              "    </tr>\n",
              "    <tr>\n",
              "      <th>3</th>\n",
              "      <td>Young</td>\n",
              "      <td>Female</td>\n",
              "      <td>Rent</td>\n",
              "      <td>Single</td>\n",
              "      <td>Close</td>\n",
              "      <td>-1.248453</td>\n",
              "      <td>3</td>\n",
              "      <td>Low</td>\n",
              "      <td>6</td>\n",
              "      <td>Low</td>\n",
              "    </tr>\n",
              "    <tr>\n",
              "      <th>4</th>\n",
              "      <td>Old</td>\n",
              "      <td>Female</td>\n",
              "      <td>Own</td>\n",
              "      <td>Single</td>\n",
              "      <td>Close</td>\n",
              "      <td>-1.418382</td>\n",
              "      <td>2</td>\n",
              "      <td>Low</td>\n",
              "      <td>6</td>\n",
              "      <td>Low</td>\n",
              "    </tr>\n",
              "    <tr>\n",
              "      <th>...</th>\n",
              "      <td>...</td>\n",
              "      <td>...</td>\n",
              "      <td>...</td>\n",
              "      <td>...</td>\n",
              "      <td>...</td>\n",
              "      <td>...</td>\n",
              "      <td>...</td>\n",
              "      <td>...</td>\n",
              "      <td>...</td>\n",
              "      <td>...</td>\n",
              "    </tr>\n",
              "    <tr>\n",
              "      <th>995</th>\n",
              "      <td>Middle</td>\n",
              "      <td>Female</td>\n",
              "      <td>Own</td>\n",
              "      <td>Married</td>\n",
              "      <td>Far</td>\n",
              "      <td>1.408323</td>\n",
              "      <td>0</td>\n",
              "      <td>High</td>\n",
              "      <td>24</td>\n",
              "      <td>Very High</td>\n",
              "    </tr>\n",
              "    <tr>\n",
              "      <th>996</th>\n",
              "      <td>Old</td>\n",
              "      <td>Female</td>\n",
              "      <td>Own</td>\n",
              "      <td>Married</td>\n",
              "      <td>Far</td>\n",
              "      <td>1.761253</td>\n",
              "      <td>0</td>\n",
              "      <td>High</td>\n",
              "      <td>24</td>\n",
              "      <td>Very High</td>\n",
              "    </tr>\n",
              "    <tr>\n",
              "      <th>997</th>\n",
              "      <td>Middle</td>\n",
              "      <td>Female</td>\n",
              "      <td>Rent</td>\n",
              "      <td>Married</td>\n",
              "      <td>Far</td>\n",
              "      <td>2.114182</td>\n",
              "      <td>1</td>\n",
              "      <td>High</td>\n",
              "      <td>24</td>\n",
              "      <td>Very High</td>\n",
              "    </tr>\n",
              "    <tr>\n",
              "      <th>998</th>\n",
              "      <td>Middle</td>\n",
              "      <td>Male</td>\n",
              "      <td>Own</td>\n",
              "      <td>Married</td>\n",
              "      <td>Far</td>\n",
              "      <td>2.186075</td>\n",
              "      <td>1</td>\n",
              "      <td>High</td>\n",
              "      <td>24</td>\n",
              "      <td>Very High</td>\n",
              "    </tr>\n",
              "    <tr>\n",
              "      <th>999</th>\n",
              "      <td>Old</td>\n",
              "      <td>Male</td>\n",
              "      <td>Own</td>\n",
              "      <td>Married</td>\n",
              "      <td>Far</td>\n",
              "      <td>1.856021</td>\n",
              "      <td>0</td>\n",
              "      <td>High</td>\n",
              "      <td>24</td>\n",
              "      <td>Very High</td>\n",
              "    </tr>\n",
              "  </tbody>\n",
              "</table>\n",
              "<p>1000 rows × 10 columns</p>\n",
              "</div>\n",
              "      <button class=\"colab-df-convert\" onclick=\"convertToInteractive('df-ebf5154c-166f-4b57-94b4-d327e2047636')\"\n",
              "              title=\"Convert this dataframe to an interactive table.\"\n",
              "              style=\"display:none;\">\n",
              "        \n",
              "  <svg xmlns=\"http://www.w3.org/2000/svg\" height=\"24px\"viewBox=\"0 0 24 24\"\n",
              "       width=\"24px\">\n",
              "    <path d=\"M0 0h24v24H0V0z\" fill=\"none\"/>\n",
              "    <path d=\"M18.56 5.44l.94 2.06.94-2.06 2.06-.94-2.06-.94-.94-2.06-.94 2.06-2.06.94zm-11 1L8.5 8.5l.94-2.06 2.06-.94-2.06-.94L8.5 2.5l-.94 2.06-2.06.94zm10 10l.94 2.06.94-2.06 2.06-.94-2.06-.94-.94-2.06-.94 2.06-2.06.94z\"/><path d=\"M17.41 7.96l-1.37-1.37c-.4-.4-.92-.59-1.43-.59-.52 0-1.04.2-1.43.59L10.3 9.45l-7.72 7.72c-.78.78-.78 2.05 0 2.83L4 21.41c.39.39.9.59 1.41.59.51 0 1.02-.2 1.41-.59l7.78-7.78 2.81-2.81c.8-.78.8-2.07 0-2.86zM5.41 20L4 18.59l7.72-7.72 1.47 1.35L5.41 20z\"/>\n",
              "  </svg>\n",
              "      </button>\n",
              "      \n",
              "  <style>\n",
              "    .colab-df-container {\n",
              "      display:flex;\n",
              "      flex-wrap:wrap;\n",
              "      gap: 12px;\n",
              "    }\n",
              "\n",
              "    .colab-df-convert {\n",
              "      background-color: #E8F0FE;\n",
              "      border: none;\n",
              "      border-radius: 50%;\n",
              "      cursor: pointer;\n",
              "      display: none;\n",
              "      fill: #1967D2;\n",
              "      height: 32px;\n",
              "      padding: 0 0 0 0;\n",
              "      width: 32px;\n",
              "    }\n",
              "\n",
              "    .colab-df-convert:hover {\n",
              "      background-color: #E2EBFA;\n",
              "      box-shadow: 0px 1px 2px rgba(60, 64, 67, 0.3), 0px 1px 3px 1px rgba(60, 64, 67, 0.15);\n",
              "      fill: #174EA6;\n",
              "    }\n",
              "\n",
              "    [theme=dark] .colab-df-convert {\n",
              "      background-color: #3B4455;\n",
              "      fill: #D2E3FC;\n",
              "    }\n",
              "\n",
              "    [theme=dark] .colab-df-convert:hover {\n",
              "      background-color: #434B5C;\n",
              "      box-shadow: 0px 1px 3px 1px rgba(0, 0, 0, 0.15);\n",
              "      filter: drop-shadow(0px 1px 2px rgba(0, 0, 0, 0.3));\n",
              "      fill: #FFFFFF;\n",
              "    }\n",
              "  </style>\n",
              "\n",
              "      <script>\n",
              "        const buttonEl =\n",
              "          document.querySelector('#df-ebf5154c-166f-4b57-94b4-d327e2047636 button.colab-df-convert');\n",
              "        buttonEl.style.display =\n",
              "          google.colab.kernel.accessAllowed ? 'block' : 'none';\n",
              "\n",
              "        async function convertToInteractive(key) {\n",
              "          const element = document.querySelector('#df-ebf5154c-166f-4b57-94b4-d327e2047636');\n",
              "          const dataTable =\n",
              "            await google.colab.kernel.invokeFunction('convertToInteractive',\n",
              "                                                     [key], {});\n",
              "          if (!dataTable) return;\n",
              "\n",
              "          const docLinkHtml = 'Like what you see? Visit the ' +\n",
              "            '<a target=\"_blank\" href=https://colab.research.google.com/notebooks/data_table.ipynb>data table notebook</a>'\n",
              "            + ' to learn more about interactive tables.';\n",
              "          element.innerHTML = '';\n",
              "          dataTable['output_type'] = 'display_data';\n",
              "          await google.colab.output.renderOutput(dataTable, element);\n",
              "          const docLink = document.createElement('div');\n",
              "          docLink.innerHTML = docLinkHtml;\n",
              "          element.appendChild(docLink);\n",
              "        }\n",
              "      </script>\n",
              "    </div>\n",
              "  </div>\n",
              "  "
            ],
            "text/plain": [
              "        Age  Gender OwnHome  Married Location    Salary  Children History  \\\n",
              "0     Young    Male    Rent   Single    Close -1.343221         3     Low   \n",
              "1     Young    Male    Rent   Single    Close -1.408578         3     Low   \n",
              "2     Young  Female    Rent   Single    Close -1.356292         3     Low   \n",
              "3     Young  Female    Rent   Single    Close -1.248453         3     Low   \n",
              "4       Old  Female     Own   Single    Close -1.418382         2     Low   \n",
              "..      ...     ...     ...      ...      ...       ...       ...     ...   \n",
              "995  Middle  Female     Own  Married      Far  1.408323         0    High   \n",
              "996     Old  Female     Own  Married      Far  1.761253         0    High   \n",
              "997  Middle  Female    Rent  Married      Far  2.114182         1    High   \n",
              "998  Middle    Male     Own  Married      Far  2.186075         1    High   \n",
              "999     Old    Male     Own  Married      Far  1.856021         0    High   \n",
              "\n",
              "     Catalogs AmountSpent  \n",
              "0           6         Low  \n",
              "1           6         Low  \n",
              "2           6         Low  \n",
              "3           6         Low  \n",
              "4           6         Low  \n",
              "..        ...         ...  \n",
              "995        24   Very High  \n",
              "996        24   Very High  \n",
              "997        24   Very High  \n",
              "998        24   Very High  \n",
              "999        24   Very High  \n",
              "\n",
              "[1000 rows x 10 columns]"
            ]
          },
          "execution_count": 110,
          "metadata": {},
          "output_type": "execute_result"
        }
      ],
      "source": [
        "df_prep"
      ]
    },
    {
      "cell_type": "markdown",
      "metadata": {
        "id": "RH_y93ljxUL9"
      },
      "source": [
        "##### Removing Outliers\n",
        "\n",
        "Outliers can influence model's performance fatally. Since we found out that there were outliers present. We will be removing it here by utilizing [z-score outlier removal](https://www.codegrepper.com/code-examples/python/z+score+python+remove+outliers). We'll use z=score boundary of 3 since the outlier displayed in the boxplot of standardized `Salary` is above 3."
      ]
    },
    {
      "cell_type": "code",
      "execution_count": 111,
      "metadata": {
        "colab": {
          "base_uri": "https://localhost:8080/",
          "height": 357
        },
        "id": "b3K2JJnhxXdd",
        "outputId": "586fcb38-1753-4b22-dda4-e330aebd8522"
      },
      "outputs": [
        {
          "data": {
            "image/png": "[encoded data removed]",
            "text/plain": [
              "<Figure size 288x432 with 1 Axes>"
            ]
          },
          "metadata": {},
          "output_type": "display_data"
        }
      ],
      "source": [
        "fig, ax = plt.subplots(figsize=(4,6))\n",
        "\n",
        "sns.boxplot(data=df_prep,\n",
        "            y='Salary')\n",
        "\n",
        "plt.show()"
      ]
    },
    {
      "cell_type": "code",
      "execution_count": 112,
      "metadata": {
        "id": "h76_9D4n6epU"
      },
      "outputs": [],
      "source": [
        "from scipy import stats\n",
        "df_prep = df_prep[(np.abs(stats.zscore(df_prep['Salary'])) < 3)].reset_index(drop=True)"
      ]
    },
    {
      "cell_type": "code",
      "execution_count": 113,
      "metadata": {
        "colab": {
          "base_uri": "https://localhost:8080/",
          "height": 357
        },
        "id": "z7F0JTzf7NVA",
        "outputId": "93450497-77df-41bc-8243-821451ad9462"
      },
      "outputs": [
        {
          "data": {
            "image/png": "[encoded data removed]",
            "text/plain": [
              "<Figure size 288x432 with 1 Axes>"
            ]
          },
          "metadata": {},
          "output_type": "display_data"
        }
      ],
      "source": [
        "fig, ax = plt.subplots(figsize=(4,6))\n",
        "\n",
        "sns.boxplot(data=df_prep,\n",
        "            y='Salary')\n",
        "\n",
        "plt.show()"
      ]
    },
    {
      "cell_type": "markdown",
      "metadata": {
        "id": "FF7rHnKOC-Oe"
      },
      "source": [
        "#### Feature Engineering ***(1 c)***\n",
        "After preprocessing, we have a clean and standardized dataset of exactly 999 customer data that we can **almost** use for training our model. However, note that models (generally, computers) can only train on numerical values. Therefore, we need to transform the existing categorical values into numerical values.\n",
        "\n"
      ]
    },
    {
      "cell_type": "markdown",
      "metadata": {
        "id": "5xXB0A72tVbx"
      },
      "source": [
        "##### Encoding Categorical Variables"
      ]
    },
    {
      "cell_type": "markdown",
      "metadata": {
        "id": "ZpKGxshy8rXu"
      },
      "source": [
        "Firstly, after analyzing the categorical data previously, we can notice that the types of categorical data present are either binary (e.g. `Gender`)  or ordinal (e.g. `Amount Spent`). Therefore, I decided to use `LabelEncoder` and `OrdinalEncoder` from scikit-learn library for encoding these columns.\n",
        "\n",
        "For the categorical columns `Children` and `Catalogs` can be ignored since they are already in numerical form."
      ]
    },
    {
      "cell_type": "code",
      "execution_count": 114,
      "metadata": {
        "id": "VJAaLk8sC_4M"
      },
      "outputs": [],
      "source": [
        "from sklearn.preprocessing import LabelEncoder, OrdinalEncoder\n",
        "\n",
        "binary = ['Married', 'Gender', 'Location', 'OwnHome']\n",
        "ordinal = ['Age', 'AmountSpent', 'History']\n",
        "\n",
        "encoded_vals = dict()"
      ]
    },
    {
      "cell_type": "code",
      "execution_count": 115,
      "metadata": {
        "id": "3nJz_Em3BLGG"
      },
      "outputs": [],
      "source": [
        "for cat in binary:\n",
        "  le = LabelEncoder()\n",
        "  \n",
        "  df_prep[cat] = le.fit_transform(df_prep[cat])\n",
        "  encoded_vals[cat] = le.classes_"
      ]
    },
    {
      "cell_type": "code",
      "execution_count": 116,
      "metadata": {
        "id": "u3P87BMWBMWd"
      },
      "outputs": [],
      "source": [
        "for cat in ordinal:\n",
        "  ord = OrdinalEncoder()\n",
        "\n",
        "  cat_vals = np.array(df_prep[cat])\n",
        "  cat_vals = cat_vals.reshape(-1,1)\n",
        "\n",
        "  df_prep[cat] = ord.fit_transform(cat_vals)\n",
        "  encoded_vals[cat] = ord.categories_[0]"
      ]
    },
    {
      "cell_type": "code",
      "execution_count": 117,
      "metadata": {
        "colab": {
          "base_uri": "https://localhost:8080/",
          "height": 424
        },
        "id": "SuREo6SHCH74",
        "outputId": "fe4fc238-e345-4f8f-fff6-d2ccde107861"
      },
      "outputs": [
        {
          "data": {
            "text/html": [
              "\n",
              "  <div id=\"df-a97d2804-ffbf-49c7-9361-429b393bcbfc\">\n",
              "    <div class=\"colab-df-container\">\n",
              "      <div>\n",
              "<style scoped>\n",
              "    .dataframe tbody tr th:only-of-type {\n",
              "        vertical-align: middle;\n",
              "    }\n",
              "\n",
              "    .dataframe tbody tr th {\n",
              "        vertical-align: top;\n",
              "    }\n",
              "\n",
              "    .dataframe thead th {\n",
              "        text-align: right;\n",
              "    }\n",
              "</style>\n",
              "<table border=\"1\" class=\"dataframe\">\n",
              "  <thead>\n",
              "    <tr style=\"text-align: right;\">\n",
              "      <th></th>\n",
              "      <th>Age</th>\n",
              "      <th>Gender</th>\n",
              "      <th>OwnHome</th>\n",
              "      <th>Married</th>\n",
              "      <th>Location</th>\n",
              "      <th>Salary</th>\n",
              "      <th>Children</th>\n",
              "      <th>History</th>\n",
              "      <th>Catalogs</th>\n",
              "      <th>AmountSpent</th>\n",
              "    </tr>\n",
              "  </thead>\n",
              "  <tbody>\n",
              "    <tr>\n",
              "      <th>0</th>\n",
              "      <td>2.0</td>\n",
              "      <td>1</td>\n",
              "      <td>1</td>\n",
              "      <td>1</td>\n",
              "      <td>0</td>\n",
              "      <td>-1.343221</td>\n",
              "      <td>3</td>\n",
              "      <td>1.0</td>\n",
              "      <td>6</td>\n",
              "      <td>1.0</td>\n",
              "    </tr>\n",
              "    <tr>\n",
              "      <th>1</th>\n",
              "      <td>2.0</td>\n",
              "      <td>1</td>\n",
              "      <td>1</td>\n",
              "      <td>1</td>\n",
              "      <td>0</td>\n",
              "      <td>-1.408578</td>\n",
              "      <td>3</td>\n",
              "      <td>1.0</td>\n",
              "      <td>6</td>\n",
              "      <td>1.0</td>\n",
              "    </tr>\n",
              "    <tr>\n",
              "      <th>2</th>\n",
              "      <td>2.0</td>\n",
              "      <td>0</td>\n",
              "      <td>1</td>\n",
              "      <td>1</td>\n",
              "      <td>0</td>\n",
              "      <td>-1.356292</td>\n",
              "      <td>3</td>\n",
              "      <td>1.0</td>\n",
              "      <td>6</td>\n",
              "      <td>1.0</td>\n",
              "    </tr>\n",
              "    <tr>\n",
              "      <th>3</th>\n",
              "      <td>2.0</td>\n",
              "      <td>0</td>\n",
              "      <td>1</td>\n",
              "      <td>1</td>\n",
              "      <td>0</td>\n",
              "      <td>-1.248453</td>\n",
              "      <td>3</td>\n",
              "      <td>1.0</td>\n",
              "      <td>6</td>\n",
              "      <td>1.0</td>\n",
              "    </tr>\n",
              "    <tr>\n",
              "      <th>4</th>\n",
              "      <td>1.0</td>\n",
              "      <td>0</td>\n",
              "      <td>0</td>\n",
              "      <td>1</td>\n",
              "      <td>0</td>\n",
              "      <td>-1.418382</td>\n",
              "      <td>2</td>\n",
              "      <td>1.0</td>\n",
              "      <td>6</td>\n",
              "      <td>1.0</td>\n",
              "    </tr>\n",
              "    <tr>\n",
              "      <th>...</th>\n",
              "      <td>...</td>\n",
              "      <td>...</td>\n",
              "      <td>...</td>\n",
              "      <td>...</td>\n",
              "      <td>...</td>\n",
              "      <td>...</td>\n",
              "      <td>...</td>\n",
              "      <td>...</td>\n",
              "      <td>...</td>\n",
              "      <td>...</td>\n",
              "    </tr>\n",
              "    <tr>\n",
              "      <th>994</th>\n",
              "      <td>0.0</td>\n",
              "      <td>0</td>\n",
              "      <td>0</td>\n",
              "      <td>0</td>\n",
              "      <td>1</td>\n",
              "      <td>1.408323</td>\n",
              "      <td>0</td>\n",
              "      <td>0.0</td>\n",
              "      <td>24</td>\n",
              "      <td>3.0</td>\n",
              "    </tr>\n",
              "    <tr>\n",
              "      <th>995</th>\n",
              "      <td>1.0</td>\n",
              "      <td>0</td>\n",
              "      <td>0</td>\n",
              "      <td>0</td>\n",
              "      <td>1</td>\n",
              "      <td>1.761253</td>\n",
              "      <td>0</td>\n",
              "      <td>0.0</td>\n",
              "      <td>24</td>\n",
              "      <td>3.0</td>\n",
              "    </tr>\n",
              "    <tr>\n",
              "      <th>996</th>\n",
              "      <td>0.0</td>\n",
              "      <td>0</td>\n",
              "      <td>1</td>\n",
              "      <td>0</td>\n",
              "      <td>1</td>\n",
              "      <td>2.114182</td>\n",
              "      <td>1</td>\n",
              "      <td>0.0</td>\n",
              "      <td>24</td>\n",
              "      <td>3.0</td>\n",
              "    </tr>\n",
              "    <tr>\n",
              "      <th>997</th>\n",
              "      <td>0.0</td>\n",
              "      <td>1</td>\n",
              "      <td>0</td>\n",
              "      <td>0</td>\n",
              "      <td>1</td>\n",
              "      <td>2.186075</td>\n",
              "      <td>1</td>\n",
              "      <td>0.0</td>\n",
              "      <td>24</td>\n",
              "      <td>3.0</td>\n",
              "    </tr>\n",
              "    <tr>\n",
              "      <th>998</th>\n",
              "      <td>1.0</td>\n",
              "      <td>1</td>\n",
              "      <td>0</td>\n",
              "      <td>0</td>\n",
              "      <td>1</td>\n",
              "      <td>1.856021</td>\n",
              "      <td>0</td>\n",
              "      <td>0.0</td>\n",
              "      <td>24</td>\n",
              "      <td>3.0</td>\n",
              "    </tr>\n",
              "  </tbody>\n",
              "</table>\n",
              "<p>999 rows × 10 columns</p>\n",
              "</div>\n",
              "      <button class=\"colab-df-convert\" onclick=\"convertToInteractive('df-a97d2804-ffbf-49c7-9361-429b393bcbfc')\"\n",
              "              title=\"Convert this dataframe to an interactive table.\"\n",
              "              style=\"display:none;\">\n",
              "        \n",
              "  <svg xmlns=\"http://www.w3.org/2000/svg\" height=\"24px\"viewBox=\"0 0 24 24\"\n",
              "       width=\"24px\">\n",
              "    <path d=\"M0 0h24v24H0V0z\" fill=\"none\"/>\n",
              "    <path d=\"M18.56 5.44l.94 2.06.94-2.06 2.06-.94-2.06-.94-.94-2.06-.94 2.06-2.06.94zm-11 1L8.5 8.5l.94-2.06 2.06-.94-2.06-.94L8.5 2.5l-.94 2.06-2.06.94zm10 10l.94 2.06.94-2.06 2.06-.94-2.06-.94-.94-2.06-.94 2.06-2.06.94z\"/><path d=\"M17.41 7.96l-1.37-1.37c-.4-.4-.92-.59-1.43-.59-.52 0-1.04.2-1.43.59L10.3 9.45l-7.72 7.72c-.78.78-.78 2.05 0 2.83L4 21.41c.39.39.9.59 1.41.59.51 0 1.02-.2 1.41-.59l7.78-7.78 2.81-2.81c.8-.78.8-2.07 0-2.86zM5.41 20L4 18.59l7.72-7.72 1.47 1.35L5.41 20z\"/>\n",
              "  </svg>\n",
              "      </button>\n",
              "      \n",
              "  <style>\n",
              "    .colab-df-container {\n",
              "      display:flex;\n",
              "      flex-wrap:wrap;\n",
              "      gap: 12px;\n",
              "    }\n",
              "\n",
              "    .colab-df-convert {\n",
              "      background-color: #E8F0FE;\n",
              "      border: none;\n",
              "      border-radius: 50%;\n",
              "      cursor: pointer;\n",
              "      display: none;\n",
              "      fill: #1967D2;\n",
              "      height: 32px;\n",
              "      padding: 0 0 0 0;\n",
              "      width: 32px;\n",
              "    }\n",
              "\n",
              "    .colab-df-convert:hover {\n",
              "      background-color: #E2EBFA;\n",
              "      box-shadow: 0px 1px 2px rgba(60, 64, 67, 0.3), 0px 1px 3px 1px rgba(60, 64, 67, 0.15);\n",
              "      fill: #174EA6;\n",
              "    }\n",
              "\n",
              "    [theme=dark] .colab-df-convert {\n",
              "      background-color: #3B4455;\n",
              "      fill: #D2E3FC;\n",
              "    }\n",
              "\n",
              "    [theme=dark] .colab-df-convert:hover {\n",
              "      background-color: #434B5C;\n",
              "      box-shadow: 0px 1px 3px 1px rgba(0, 0, 0, 0.15);\n",
              "      filter: drop-shadow(0px 1px 2px rgba(0, 0, 0, 0.3));\n",
              "      fill: #FFFFFF;\n",
              "    }\n",
              "  </style>\n",
              "\n",
              "      <script>\n",
              "        const buttonEl =\n",
              "          document.querySelector('#df-a97d2804-ffbf-49c7-9361-429b393bcbfc button.colab-df-convert');\n",
              "        buttonEl.style.display =\n",
              "          google.colab.kernel.accessAllowed ? 'block' : 'none';\n",
              "\n",
              "        async function convertToInteractive(key) {\n",
              "          const element = document.querySelector('#df-a97d2804-ffbf-49c7-9361-429b393bcbfc');\n",
              "          const dataTable =\n",
              "            await google.colab.kernel.invokeFunction('convertToInteractive',\n",
              "                                                     [key], {});\n",
              "          if (!dataTable) return;\n",
              "\n",
              "          const docLinkHtml = 'Like what you see? Visit the ' +\n",
              "            '<a target=\"_blank\" href=https://colab.research.google.com/notebooks/data_table.ipynb>data table notebook</a>'\n",
              "            + ' to learn more about interactive tables.';\n",
              "          element.innerHTML = '';\n",
              "          dataTable['output_type'] = 'display_data';\n",
              "          await google.colab.output.renderOutput(dataTable, element);\n",
              "          const docLink = document.createElement('div');\n",
              "          docLink.innerHTML = docLinkHtml;\n",
              "          element.appendChild(docLink);\n",
              "        }\n",
              "      </script>\n",
              "    </div>\n",
              "  </div>\n",
              "  "
            ],
            "text/plain": [
              "     Age  Gender  OwnHome  Married  Location    Salary  Children  History  \\\n",
              "0    2.0       1        1        1         0 -1.343221         3      1.0   \n",
              "1    2.0       1        1        1         0 -1.408578         3      1.0   \n",
              "2    2.0       0        1        1         0 -1.356292         3      1.0   \n",
              "3    2.0       0        1        1         0 -1.248453         3      1.0   \n",
              "4    1.0       0        0        1         0 -1.418382         2      1.0   \n",
              "..   ...     ...      ...      ...       ...       ...       ...      ...   \n",
              "994  0.0       0        0        0         1  1.408323         0      0.0   \n",
              "995  1.0       0        0        0         1  1.761253         0      0.0   \n",
              "996  0.0       0        1        0         1  2.114182         1      0.0   \n",
              "997  0.0       1        0        0         1  2.186075         1      0.0   \n",
              "998  1.0       1        0        0         1  1.856021         0      0.0   \n",
              "\n",
              "     Catalogs  AmountSpent  \n",
              "0           6          1.0  \n",
              "1           6          1.0  \n",
              "2           6          1.0  \n",
              "3           6          1.0  \n",
              "4           6          1.0  \n",
              "..        ...          ...  \n",
              "994        24          3.0  \n",
              "995        24          3.0  \n",
              "996        24          3.0  \n",
              "997        24          3.0  \n",
              "998        24          3.0  \n",
              "\n",
              "[999 rows x 10 columns]"
            ]
          },
          "execution_count": 117,
          "metadata": {},
          "output_type": "execute_result"
        }
      ],
      "source": [
        "df_prep"
      ]
    },
    {
      "cell_type": "code",
      "execution_count": 118,
      "metadata": {
        "colab": {
          "base_uri": "https://localhost:8080/"
        },
        "id": "p9PyEgW5vklp",
        "outputId": "34705fa2-5037-4ac9-f3b6-ad00d4d756bb"
      },
      "outputs": [
        {
          "data": {
            "text/plain": [
              "{'Age': array(['Middle', 'Old', 'Young'], dtype=object),\n",
              " 'AmountSpent': array(['High', 'Low', 'Medium', 'Very High'], dtype=object),\n",
              " 'Gender': array(['Female', 'Male'], dtype=object),\n",
              " 'History': array(['High', 'Low', 'Medium', 'None'], dtype=object),\n",
              " 'Location': array(['Close', 'Far'], dtype=object),\n",
              " 'Married': array(['Married', 'Single'], dtype=object),\n",
              " 'OwnHome': array(['Own', 'Rent'], dtype=object)}"
            ]
          },
          "execution_count": 118,
          "metadata": {},
          "output_type": "execute_result"
        }
      ],
      "source": [
        "encoded_vals"
      ]
    },
    {
      "cell_type": "markdown",
      "metadata": {
        "id": "gVhMyXx6DATO"
      },
      "source": [
        "#### Feature Selection ***(1 d)***\n",
        "We'll move on to feature selection process. The feature selection process will be focused on to prepare the dataset for no 2a which is a classification task of `Amount Spent`. To perform feature selection, we will look at the correlation of each features to the target variables first. Below is the heatmap of the correlation"
      ]
    },
    {
      "cell_type": "code",
      "execution_count": 119,
      "metadata": {
        "colab": {
          "base_uri": "https://localhost:8080/",
          "height": 572
        },
        "id": "MXZED-zIDAo_",
        "outputId": "2c051c5f-d275-456f-e8cd-08ce23bfa045"
      },
      "outputs": [
        {
          "data": {
            "text/plain": [
              "<matplotlib.axes._subplots.AxesSubplot at 0x7fb37ad696d0>"
            ]
          },
          "execution_count": 119,
          "metadata": {},
          "output_type": "execute_result"
        },
        {
          "data": {
            "image/png": "[encoded data removed]",
            "text/plain": [
              "<Figure size 720x576 with 2 Axes>"
            ]
          },
          "metadata": {},
          "output_type": "display_data"
        }
      ],
      "source": [
        "fig, ax = plt.subplots(figsize=(10,8))\n",
        "\n",
        "sns.heatmap(df_prep.corr(), annot=True)"
      ]
    },
    {
      "cell_type": "markdown",
      "metadata": {
        "id": "dcBNVr4oJxCL"
      },
      "source": [
        "Let's take a closer look at the correlation of each feature and `AmountSpent` target variable."
      ]
    },
    {
      "cell_type": "code",
      "execution_count": 120,
      "metadata": {
        "colab": {
          "base_uri": "https://localhost:8080/"
        },
        "id": "t2JWLe1-FraA",
        "outputId": "6182ad63-173c-4555-a38d-8c2b5c072f6a"
      },
      "outputs": [
        {
          "data": {
            "text/plain": [
              "Gender      0.042624\n",
              "Children    0.059955\n",
              "OwnHome     0.157297\n",
              "Age         0.163602\n",
              "Location    0.177710\n",
              "Catalogs    0.204362\n",
              "History     0.223584\n",
              "Married     0.239780\n",
              "Salary      0.341737\n",
              "Name: AmountSpent, dtype: float64"
            ]
          },
          "execution_count": 120,
          "metadata": {},
          "output_type": "execute_result"
        }
      ],
      "source": [
        "corr = df_prep.corr()['AmountSpent']\n",
        "\n",
        "corr.abs().sort_values()[:-1]"
      ]
    },
    {
      "cell_type": "markdown",
      "metadata": {
        "id": "sjzNWYEjKBQq"
      },
      "source": [
        "Looking at the pearson correlation ordered from lowest to highest above, I think i will be selecting correlation with value greater than 0.1, so that not much information is loss. Therefore, columns `Gender` and `Children` will be dropped. "
      ]
    },
    {
      "cell_type": "markdown",
      "metadata": {
        "id": "7x8ywMl_sATM"
      },
      "source": [
        "## Modelling"
      ]
    },
    {
      "cell_type": "markdown",
      "metadata": {
        "id": "UYZtsGWkCzxP"
      },
      "source": [
        "### Classifying Customer Amount Spent ***(2)***\n",
        "We'll move on to training our models for Customer's Amount Spent Classification task. First we'll split the dataset into train set and test set. Here, I set it so that the split will equally split `Location` column, since as we analyzed before that this column is the most imbalanced one. By equally splitting the contents to train set and test set respectively, the model can learn sufficient amount of information."
      ]
    },
    {
      "cell_type": "code",
      "execution_count": 121,
      "metadata": {
        "id": "L9IgcHC6sF-D"
      },
      "outputs": [],
      "source": [
        "from sklearn.model_selection import train_test_split\n",
        "\n",
        "rand = 0\n",
        "\n",
        "X = df_prep.iloc[:, :-1]\n",
        "y = df_prep.iloc[:, -1]\n",
        "\n",
        "X_train, X_test, y_train, y_test = train_test_split(X, y, \n",
        "                                                    test_size=0.1,\n",
        "                                                    stratify=X['Location'],\n",
        "                                                    random_state=rand)"
      ]
    },
    {
      "cell_type": "markdown",
      "metadata": {
        "id": "kimdbgbD7Gu2"
      },
      "source": [
        "#### Initial Training ***(2 a)***"
      ]
    },
    {
      "cell_type": "markdown",
      "metadata": {
        "id": "K0HVN7MHxrby"
      },
      "source": [
        "Next, below I made a function that we can reuse so that the codes won't be repetitive. I chose the accuracy metric to measure general accuracy of the model. But, to analyze the model's performance deeper, we can utilize `classification_report` and have a look at each class' predictive capability of the model (Necessary since we know that the data is imbalanced)"
      ]
    },
    {
      "cell_type": "code",
      "execution_count": 122,
      "metadata": {
        "id": "3_CZfjM131Xd"
      },
      "outputs": [],
      "source": [
        "from sklearn.metrics import accuracy_score, classification_report\n",
        "\n",
        "# function to train, predict, and evaluate\n",
        "def train_eval(model, X_train, X_test, y_train, y_test):\n",
        "  model.fit(X_train, y_train)\n",
        "\n",
        "  preds = model.predict(X_test)\n",
        "\n",
        "  print(accuracy_score(y_test, preds))\n",
        "  print(classification_report(y_test, preds, target_names=encoded_vals['AmountSpent']))"
      ]
    },
    {
      "cell_type": "markdown",
      "metadata": {
        "id": "Xgm5bA1YM73_"
      },
      "source": [
        "##### Multiclass Logistic Regression\n",
        "Though logistic regression is suited for binary classification, it is also possible to be used for multiclass classification, like the problem asked from the question. I picked logistic regression because this model is generally good and sometimes can be the best model option available if tuned well (based on experience).\n",
        "\n",
        "[Multiclass classification](https://machinelearningmastery.com/one-vs-rest-and-one-vs-one-for-multi-class-classification/) using logistic regression itself has 2 distinct techniques:\n",
        "- One vs. One (OvO) where we train a model for each pair of class from the list of classes available. This approach takes more time with the more classes present since it compares each pair of classes\n",
        "- One vs. Rest (OvR) where we train a model for each distinct classes from the list of classes available. Practically, this approach will have models that can classify a single class respectively from the rest. More preferrable in my opinion due to shorter training time and logically makes sense.\n",
        "\n",
        "Luckily, scikit-learn's [Logistic Regression](https://scikit-learn.org/stable/modules/generated/sklearn.linear_model.LogisticRegression.html) model is automatically set to one-vs-rest method. Therefore, we can just instantiate the model to a variable."
      ]
    },
    {
      "cell_type": "code",
      "execution_count": 123,
      "metadata": {
        "colab": {
          "base_uri": "https://localhost:8080/"
        },
        "id": "grnBRwNgOJCP",
        "outputId": "82a6bbfe-2bdd-4167-fd2a-ebbc09d48cfa"
      },
      "outputs": [
        {
          "name": "stdout",
          "output_type": "stream",
          "text": [
            "0.72\n",
            "              precision    recall  f1-score   support\n",
            "\n",
            "        High       0.65      0.61      0.63        28\n",
            "         Low       0.81      0.96      0.88        26\n",
            "      Medium       0.56      0.45      0.50        22\n",
            "   Very High       0.80      0.83      0.82        24\n",
            "\n",
            "    accuracy                           0.72       100\n",
            "   macro avg       0.70      0.71      0.71       100\n",
            "weighted avg       0.71      0.72      0.71       100\n",
            "\n"
          ]
        }
      ],
      "source": [
        "from sklearn.linear_model import LogisticRegression\n",
        "\n",
        "lr = LogisticRegression(random_state=rand)\n",
        "\n",
        "train_eval(lr, X_train, X_test, y_train, y_test)"
      ]
    },
    {
      "cell_type": "markdown",
      "metadata": {
        "id": "Z1Vzbm8wM1u3"
      },
      "source": [
        "##### KNN\n",
        "KNN or K-Nearest Neighbors is a very common model used in classification problems. It's hard not to include this for comparison task. The idea of this model is practically select `K` nearest \"data points\" or \"information points\" and similarize the point to the most common class of the selected `K` points.\n",
        "\n",
        "By default, scikit-learn's K-Nearest Neighbors model is set so that K=5. I think it is the right number, therefore, we can also directly instantiate the model to a variable here."
      ]
    },
    {
      "cell_type": "code",
      "execution_count": 124,
      "metadata": {
        "colab": {
          "base_uri": "https://localhost:8080/"
        },
        "id": "6l09-UNxM7o3",
        "outputId": "2cbbed0f-7a9b-49af-9219-64b292587fe5"
      },
      "outputs": [
        {
          "name": "stdout",
          "output_type": "stream",
          "text": [
            "0.71\n",
            "              precision    recall  f1-score   support\n",
            "\n",
            "        High       0.59      0.46      0.52        28\n",
            "         Low       0.86      0.96      0.91        26\n",
            "      Medium       0.55      0.55      0.55        22\n",
            "   Very High       0.78      0.88      0.82        24\n",
            "\n",
            "    accuracy                           0.71       100\n",
            "   macro avg       0.69      0.71      0.70       100\n",
            "weighted avg       0.70      0.71      0.70       100\n",
            "\n"
          ]
        }
      ],
      "source": [
        "from sklearn.neighbors import KNeighborsClassifier\n",
        "\n",
        "knn = KNeighborsClassifier()\n",
        "\n",
        "train_eval(knn, X_train, X_test, y_train, y_test)"
      ]
    },
    {
      "cell_type": "markdown",
      "metadata": {
        "id": "KBIbW7HjM4a-"
      },
      "source": [
        "##### Random Forest\n",
        "Random Forest is one of the popular machine learning ensemble method where multiple decision trees is being trained all at once and either a popular vote (classification problems) or an average (regression problems) is taken from each decision trees. I have used this model several times and the results frequently stands out as the best model. Other than that, with the multiple individual component-like model (decision trees), it can reduce prediction errors a lot.\n",
        "\n",
        "By default, scikit-learn's Random Forest Classifier model is set so that it trains 100 decision trees and aggregate popular vote. It is less estimators than what I use to set, but to make it easier we can just instantiate the model like previous ones."
      ]
    },
    {
      "cell_type": "code",
      "execution_count": 125,
      "metadata": {
        "colab": {
          "base_uri": "https://localhost:8080/"
        },
        "id": "DAQM5nNcM7cq",
        "outputId": "7edd16c7-5c5f-4d7b-e30b-c7d58f955d1c"
      },
      "outputs": [
        {
          "name": "stdout",
          "output_type": "stream",
          "text": [
            "0.73\n",
            "              precision    recall  f1-score   support\n",
            "\n",
            "        High       0.64      0.50      0.56        28\n",
            "         Low       0.86      0.96      0.91        26\n",
            "      Medium       0.57      0.55      0.56        22\n",
            "   Very High       0.79      0.92      0.85        24\n",
            "\n",
            "    accuracy                           0.73       100\n",
            "   macro avg       0.71      0.73      0.72       100\n",
            "weighted avg       0.72      0.73      0.72       100\n",
            "\n"
          ]
        }
      ],
      "source": [
        "from sklearn.ensemble import RandomForestClassifier\n",
        "\n",
        "rf = RandomForestClassifier(random_state=rand)\n",
        "\n",
        "train_eval(rf, X_train, X_test, y_train, y_test)"
      ]
    },
    {
      "cell_type": "markdown",
      "metadata": {
        "id": "0u87fKtB7onI"
      },
      "source": [
        "#### Results ***(2 a)***\n",
        "We can see that, from the initial training process, the order of the best to worse model in terms of accuracy is:\n",
        "1. Random Forest - 73%\n",
        "2. Logistic Regression - 72%\n",
        "3. K-Nearest Neighbors - 71%\n",
        "\n",
        "However, notice the other metrics present in the classification report. For example, KNN has higher precision towards \"Low\" class compared to Logistic Regression despite the higher accuracy on the latter, this means that KNN are more robust in determining \"Low\" class compared to Logistic Regression.\n",
        "\n",
        "Another example is Logistic Regression's recall towards \"High\" class compared to the top model, Random Forest. This indicates that the Random Forest model is worse in grouping the \"High\" class, as some are classified into other class group.\n",
        "\n",
        "Note:\n",
        "- **Precision** measures the  relevance of the retrieved classes predicted by the model (true positive in a group of predicted positives)\n",
        "- **Recall** measures the retrieved items that were relevant as predicted by the model (true positives among all other \"falsely classified\" positives)\n",
        "\n",
        "Source - [Precision and Recall](https://en.wikipedia.org/wiki/Precision_and_recall)"
      ]
    },
    {
      "cell_type": "markdown",
      "metadata": {
        "id": "PfEGQtlxGOfC"
      },
      "source": [
        "#### Hyperparameter Tuning ***(2 b)***\n",
        "Here, I will use [Grid Search](https://machinelearningmastery.com/hyperparameter-optimization-with-random-search-and-grid-search/) technique for the hyperparameter tuning. Grid Search is practically an exhaustive process of trial and error trying to find the best set of parameters for a model. The exhaustive process itself basically just looping through a pre-defined list of parameters that we want to try, set the model, train it, evaluate, and store the model score. Afterwards, select the best parameter settings from the stored scores.\n",
        "\n",
        "Since the dataset is imbalanced, we previously split the dataset stratified based on the column that is imbalanced to avoid uneven information spread. In scikit-learn's `GridSearchCV` class, we can't do that. However, we can feed another splitter called the `StratifiedKFold` for splitting the dataset. So firstly, let's instantiate that object."
      ]
    },
    {
      "cell_type": "code",
      "execution_count": 126,
      "metadata": {
        "colab": {
          "base_uri": "https://localhost:8080/"
        },
        "id": "jjDl4dv3GiKF",
        "outputId": "5415e855-1634-47eb-8592-94612e32944a"
      },
      "outputs": [
        {
          "data": {
            "text/plain": [
              "10"
            ]
          },
          "execution_count": 126,
          "metadata": {},
          "output_type": "execute_result"
        }
      ],
      "source": [
        "from sklearn.model_selection import GridSearchCV, StratifiedKFold\n",
        "\n",
        "skf = StratifiedKFold(n_splits=10, shuffle=True, random_state=0)\n",
        "\n",
        "skf.get_n_splits(X, y)"
      ]
    },
    {
      "cell_type": "markdown",
      "metadata": {
        "id": "EvLzYAWO6glR"
      },
      "source": [
        "Next, we'll make the function so that we can reduce repetitive codes"
      ]
    },
    {
      "cell_type": "code",
      "execution_count": 127,
      "metadata": {
        "id": "LjfxW6G9XNtr"
      },
      "outputs": [],
      "source": [
        "def grid_search(model, params, X, y, metric):\n",
        "  gs = GridSearchCV(model, \n",
        "                    param_grid=params, \n",
        "                    scoring=metric, \n",
        "                    n_jobs=-1,\n",
        "                    cv=skf,\n",
        "                    verbose=3)\n",
        "  \n",
        "  gs.fit(X,y)\n",
        "\n",
        "  print(\"Best Score: \", gs.best_score_)\n",
        "  print(\"Best Params: \", gs.best_params_)"
      ]
    },
    {
      "cell_type": "markdown",
      "metadata": {
        "id": "mL4Iv5z5GcZi"
      },
      "source": [
        "##### Tuning Logistic Regression Model\n",
        "Referencing from the [documentation](https://scikit-learn.org/stable/modules/generated/sklearn.linear_model.LogisticRegression.html), I think below are the parameters that I want to tune for the logistic regression model. Though its a little bit hard to understand what each parameter do, but essentially here, I want to tune the model by trying different solvers, and different number of iterations for it to converge into a good model. `C` here is the regularization strength, which I think is also worth to be considered."
      ]
    },
    {
      "cell_type": "code",
      "execution_count": 128,
      "metadata": {
        "colab": {
          "base_uri": "https://localhost:8080/"
        },
        "id": "mmmJoc8deKv1",
        "outputId": "4b55fcae-91fb-4fdf-d697-e957c8dd9206"
      },
      "outputs": [
        {
          "name": "stdout",
          "output_type": "stream",
          "text": [
            "Fitting 10 folds for each of 80 candidates, totalling 800 fits\n",
            "Best Score:  0.6876262626262626\n",
            "Best Params:  {'C': 2.0, 'max_iter': 100, 'random_state': 0, 'solver': 'lbfgs'}\n"
          ]
        }
      ],
      "source": [
        "lr_tuned = LogisticRegression()\n",
        "\n",
        "param_grid = {\n",
        "  'max_iter': [n for n in range(100,501,100)],\n",
        "  'solver': ['newton-cg','lbfgs','sag','saga'],\n",
        "  'random_state': [0],\n",
        "  'C': [0.1, 0.5, 1.0, 2.0]\n",
        "}\n",
        "\n",
        "grid_search(lr_tuned , param_grid, X, y, 'accuracy')"
      ]
    },
    {
      "cell_type": "code",
      "execution_count": 148,
      "metadata": {
        "colab": {
          "base_uri": "https://localhost:8080/"
        },
        "id": "9Ai5MtLZmz59",
        "outputId": "f43e33ac-f6a1-40bc-889b-3a20299a2aae"
      },
      "outputs": [
        {
          "name": "stdout",
          "output_type": "stream",
          "text": [
            "Before: \n",
            "0.72\n",
            "              precision    recall  f1-score   support\n",
            "\n",
            "        High       0.65      0.61      0.63        28\n",
            "         Low       0.81      0.96      0.88        26\n",
            "      Medium       0.56      0.45      0.50        22\n",
            "   Very High       0.80      0.83      0.82        24\n",
            "\n",
            "    accuracy                           0.72       100\n",
            "   macro avg       0.70      0.71      0.71       100\n",
            "weighted avg       0.71      0.72      0.71       100\n",
            "\n",
            "\n",
            "After: \n",
            "0.68\n",
            "              precision    recall  f1-score   support\n",
            "\n",
            "        High       0.59      0.46      0.52        28\n",
            "         Low       0.81      0.96      0.88        26\n",
            "      Medium       0.50      0.45      0.48        22\n",
            "   Very High       0.74      0.83      0.78        24\n",
            "\n",
            "    accuracy                           0.68       100\n",
            "   macro avg       0.66      0.68      0.66       100\n",
            "weighted avg       0.66      0.68      0.67       100\n",
            "\n"
          ]
        }
      ],
      "source": [
        "lr_tuned  = LogisticRegression(max_iter=100,\n",
        "                        C=2.0,\n",
        "                        solver='lbfgs',\n",
        "                        random_state=rand)\n",
        "\n",
        "print(\"Before: \")\n",
        "train_eval(lr, X_train, X_test, y_train, y_test)\n",
        "print(\"\\nAfter: \")\n",
        "train_eval(lr_tuned , X_train, X_test, y_train, y_test)"
      ]
    },
    {
      "cell_type": "markdown",
      "metadata": {
        "id": "wUM2Ex9ZGigL"
      },
      "source": [
        "##### Tuning KNN Model\n",
        "Looking at the nature of KNN algorithm, which highly reliant on the number of neihbors to be considered and the distance between the neighbors and the points. I think that the following is the parameters that is worth to try and tune on. \n",
        "\n",
        "Referencing from the [documentation](https://scikit-learn.org/stable/modules/generated/sklearn.neighbors.KNeighborsClassifier.html), I decided to add the `p` parameter for consideration, since this parameter determine what type of distance to use, manhattan distance (how far by vertical and horizontal distance added) or euclidean distance (absolute distance)."
      ]
    },
    {
      "cell_type": "code",
      "execution_count": 130,
      "metadata": {
        "colab": {
          "base_uri": "https://localhost:8080/"
        },
        "id": "zTZ-ARl9Gki6",
        "outputId": "2bbc89bd-41bf-4fee-bc97-e0e89c6616ec"
      },
      "outputs": [
        {
          "name": "stdout",
          "output_type": "stream",
          "text": [
            "Fitting 10 folds for each of 36 candidates, totalling 360 fits\n",
            "Best Score:  0.6926666666666667\n",
            "Best Params:  {'n_neighbors': 5, 'p': 2, 'weights': 'distance'}\n"
          ]
        }
      ],
      "source": [
        "knn_tuned = KNeighborsClassifier()\n",
        "\n",
        "param_grid = {\n",
        "    'n_neighbors': [n for n in range(2,11)],\n",
        "    'weights': ['uniform','distance'],\n",
        "    'p': [1,2]\n",
        "}\n",
        "\n",
        "grid_search(knn_tuned, param_grid, X, y, 'accuracy')"
      ]
    },
    {
      "cell_type": "code",
      "execution_count": 131,
      "metadata": {
        "colab": {
          "base_uri": "https://localhost:8080/"
        },
        "id": "JR9AkAqCr-79",
        "outputId": "d6f7ca85-d7c1-4e2d-ff03-1b90995571db"
      },
      "outputs": [
        {
          "name": "stdout",
          "output_type": "stream",
          "text": [
            "Before: \n",
            "0.71\n",
            "              precision    recall  f1-score   support\n",
            "\n",
            "        High       0.59      0.46      0.52        28\n",
            "         Low       0.86      0.96      0.91        26\n",
            "      Medium       0.55      0.55      0.55        22\n",
            "   Very High       0.78      0.88      0.82        24\n",
            "\n",
            "    accuracy                           0.71       100\n",
            "   macro avg       0.69      0.71      0.70       100\n",
            "weighted avg       0.70      0.71      0.70       100\n",
            "\n",
            "\n",
            "After: \n",
            "0.7\n",
            "              precision    recall  f1-score   support\n",
            "\n",
            "        High       0.57      0.43      0.49        28\n",
            "         Low       0.89      0.92      0.91        26\n",
            "      Medium       0.54      0.64      0.58        22\n",
            "   Very High       0.77      0.83      0.80        24\n",
            "\n",
            "    accuracy                           0.70       100\n",
            "   macro avg       0.69      0.71      0.69       100\n",
            "weighted avg       0.69      0.70      0.69       100\n",
            "\n"
          ]
        }
      ],
      "source": [
        "knn_tuned = KNeighborsClassifier(n_neighbors=5,\n",
        "                           p=2,\n",
        "                           weights='distance')\n",
        "print(\"Before: \")\n",
        "train_eval(knn, X_train, X_test, y_train, y_test)\n",
        "print(\"\\nAfter: \")\n",
        "train_eval(knn_tuned, X_train, X_test, y_train, y_test)"
      ]
    },
    {
      "cell_type": "markdown",
      "metadata": {
        "id": "FyKjoJ2rGk5q"
      },
      "source": [
        "##### Tuning Random Forest\n",
        "The random forest model is a bit more complicated due to multiple hyperparameters present as per given in the [documentation](https://scikit-learn.org/stable/modules/generated/sklearn.ensemble.RandomForestClassifier.html). I perform the tuning process by modifying the parameter grid from a work done by Will Koehrsen through his [Medium article](https://towardsdatascience.com/hyperparameter-tuning-the-random-forest-in-python-using-scikit-learn-28d2aa77dd74).\n",
        "\n",
        "The number of decision trees is definitely a parameter that must be tuned. The other parameters that are included basically influences the algorithm such as `criterion` defines what function to measure the split quality, or `max_depth` defines the maximum tree depth to be built. I think doing the tuning on the algorithmic side of this model is also worth to try and have a look at on the accuracy later on."
      ]
    },
    {
      "cell_type": "code",
      "execution_count": 132,
      "metadata": {
        "colab": {
          "base_uri": "https://localhost:8080/"
        },
        "id": "fNiC81akGm-e",
        "outputId": "6c59e410-0f24-4bd7-cbd4-d016a42ffa72"
      },
      "outputs": [
        {
          "name": "stdout",
          "output_type": "stream",
          "text": [
            "Fitting 10 folds for each of 360 candidates, totalling 3600 fits\n",
            "Best Score:  0.7567070707070708\n",
            "Best Params:  {'criterion': 'gini', 'max_depth': 10, 'min_samples_split': 5, 'n_estimators': 800, 'random_state': 0}\n"
          ]
        }
      ],
      "source": [
        "rf_tuned = RandomForestClassifier()\n",
        "\n",
        "param_grid = {\n",
        "    'n_estimators': [n for n in range(100,1001,100)],\n",
        "    'max_depth': [n for n in range(10,51,10)] + [None],\n",
        "    'criterion': ['gini','entropy'],\n",
        "    'min_samples_split': [2,5,10],\n",
        "    'random_state': [0]\n",
        "}\n",
        "\n",
        "grid_search(rf_tuned, param_grid, X, y, 'accuracy')"
      ]
    },
    {
      "cell_type": "code",
      "execution_count": 149,
      "metadata": {
        "colab": {
          "base_uri": "https://localhost:8080/"
        },
        "id": "S5pwPPgC1V3t",
        "outputId": "ad0dd2e2-1ba2-44fa-e09b-100696f84276"
      },
      "outputs": [
        {
          "name": "stdout",
          "output_type": "stream",
          "text": [
            "Before: \n",
            "0.73\n",
            "              precision    recall  f1-score   support\n",
            "\n",
            "        High       0.64      0.50      0.56        28\n",
            "         Low       0.86      0.96      0.91        26\n",
            "      Medium       0.57      0.55      0.56        22\n",
            "   Very High       0.79      0.92      0.85        24\n",
            "\n",
            "    accuracy                           0.73       100\n",
            "   macro avg       0.71      0.73      0.72       100\n",
            "weighted avg       0.72      0.73      0.72       100\n",
            "\n",
            "\n",
            "After: \n",
            "0.73\n",
            "              precision    recall  f1-score   support\n",
            "\n",
            "        High       0.64      0.50      0.56        28\n",
            "         Low       0.86      0.96      0.91        26\n",
            "      Medium       0.60      0.55      0.57        22\n",
            "   Very High       0.76      0.92      0.83        24\n",
            "\n",
            "    accuracy                           0.73       100\n",
            "   macro avg       0.71      0.73      0.72       100\n",
            "weighted avg       0.72      0.73      0.72       100\n",
            "\n"
          ]
        }
      ],
      "source": [
        "rf_tuned = RandomForestClassifier(n_estimators=800,\n",
        "                            criterion='gini',\n",
        "                            max_depth=10,\n",
        "                            min_samples_split=5,\n",
        "                            random_state=0)\n",
        "\n",
        "print(\"Before: \")\n",
        "train_eval(rf, X_train, X_test, y_train, y_test)\n",
        "print(\"\\nAfter: \")\n",
        "train_eval(rf_tuned, X_train, X_test, y_train, y_test)"
      ]
    },
    {
      "cell_type": "markdown",
      "metadata": {
        "id": "pCa0kB4sGu3z"
      },
      "source": [
        "#### Tuned Model Evaluation ***(2 c)***\n",
        "After doing the hyperparameter tuning process using Grid Search, out of 3 models that were trained, only Random Forest model improved in accuracy, the other 2 decreased. This can potentially caused by the dataset being imbalanced and the predictability of the model is reduced. However, if we take a look into the other metrics as printed in the classification report (Precision & Recall), there is a slight improvement for some target classes. This means that the model isn't exactly becoming worse, but the model essentially performed a tradeoff to \"pay more attention\" towards the classes with poor predictive performance with the classes that has high predictive performance (Which is common when we want to improve model's performance on imbalanced dataset, for example take a look at the random forest model f1 score decrease on `Very High` class).\n",
        "\n",
        "I think there are a few things that could be executed to improve the model's performance on this imbalanced dataset, which includes:\n",
        "- **Perform additional feature selection process**. Here, I only select features based on the Pearson correlation of each feature available towards the target variable. There are other [feature selection methods](https://machinelearningmastery.com/feature-selection-with-categorical-data/) which includes considering the chi-squared statistic and mutual information statistic.\n",
        "- **Be Extra in Feature Engineering**. Here, I only performed simple data preprocessing and feature engineering steps like encoding and normalizing. I have seen a lot of people who performed more complex feature engineering process, which mostly adding more features from the available datasets, a simple example of that is adding cluster category. I did not follow their steps since I don't really understand why they did that and I am afraid that it might add more noise to the dataset. But it is something worth to explore and try.\n",
        "- **Splitting the dataset more effectively**. I think the most visible problem here is the imbalanced dataset given, especially that the dataset has features (e.g. `Location` and `Age`) that are imbalanced, which means if we split the data in a random fashion, there is a possibility that the testing set contains more predictive features that were not explored by the model during training. The classes from scikit-learn that I used here were good but still limited. Due to this, the accuracy results from initial training and during hyperparameter tuning might also be influenced. Some considerations to be taken would be manually splitting the dataset for training, and also creating a function which can be used during tuning.\n",
        "- **Handle the imbalanced dataset**. Imbalanced dataset can be handled by [several methods](https://www.analyticsvidhya.com/blog/2020/10/improve-class-imbalance-class-weights/), which includes undersampling/oversampling and weighted classification.\n",
        "- **Collect more data**. This is outside the scope of the given dataset, making it not relevant for this case. But in a real world problem, oftentimes having more data would be better."
      ]
    },
    {
      "cell_type": "markdown",
      "metadata": {
        "id": "hqbrLdmmC8W8"
      },
      "source": [
        "### Customer Segmentation ***(3)***\n",
        "This number is a customer segmentation problem because the store intends to separate the customer population into several groups and handle them differently."
      ]
    },
    {
      "cell_type": "markdown",
      "metadata": {
        "id": "7UEpgPElfx01"
      },
      "source": [
        "#### Data Prep for Clustering ***(3 a)***\n",
        "Some things that needs to be considered for training clustering models are:\n",
        "- Can be very biased to noise, meaning we need to remove outliers\n",
        "- Large data values can also influence the model. Standardizing is a good idea to avoid that.\n",
        "- Number of clusters need to be relevant enough to separate the data evenly.\n",
        "\n",
        "The data that I have prepared has already went outliers removal and standardization step, therefore we can directly use the prepped data previously for training the cluster model."
      ]
    },
    {
      "cell_type": "markdown",
      "metadata": {
        "id": "TW0D_klS7j69"
      },
      "source": [
        "#### Training + Tuning ***(3 b)***\n"
      ]
    },
    {
      "cell_type": "code",
      "execution_count": 134,
      "metadata": {
        "id": "BPMeG4_vjG8M"
      },
      "outputs": [],
      "source": [
        "X = df_prep"
      ]
    },
    {
      "cell_type": "markdown",
      "metadata": {
        "id": "KfMPoOIFONh3"
      },
      "source": [
        "##### K-Means\n",
        "K-Means Clustering is a very popular clustering algorithm, that's why I decided to pick this model to handle the customer segmentation problem. When using K-Means, I think the only important hyperparameter to consider is the number of clusters. Therefore, we will exactly pay attention to that parameter and also perform tuning process.\n",
        "\n",
        "The method for tuning this model that I use is the elbow method, where we find the critical point between number of clusters and inertia produced by the model which starts to decrease/slope(melandai) slowly. This elbow method can be directly used as an evaluation observation to compare which number of clusters is the best for the algorithm."
      ]
    },
    {
      "cell_type": "code",
      "execution_count": 135,
      "metadata": {
        "id": "OMDWz1mcC82m"
      },
      "outputs": [],
      "source": [
        "from sklearn.cluster import KMeans\n",
        "from sklearn.metrics import silhouette_score\n",
        "\n",
        "# inertia/wcss is basically the sum of squared distance between every data points to its nearest cluster point\n",
        "cluster = [n for n in range(2,11)]\n",
        "wcss = []\n",
        "scores = []\n",
        "\n",
        "for i in cluster:\n",
        "  km = KMeans(n_clusters=i, random_state=rand)\n",
        "  \n",
        "  km.fit(X)\n",
        "\n",
        "  pred = km.predict(X)\n",
        "  wcss.append(km.inertia_)\n",
        "  scores.append(silhouette_score(X, pred))"
      ]
    },
    {
      "cell_type": "markdown",
      "metadata": {
        "id": "u-nrbbak6HFP"
      },
      "source": [
        "Notice in the cell above, I also included silhouette score, this is done to add an extra evaluation insight towards the number of clusters suitable for K-Means Clustering model. "
      ]
    },
    {
      "cell_type": "code",
      "execution_count": 136,
      "metadata": {
        "colab": {
          "base_uri": "https://localhost:8080/",
          "height": 427
        },
        "id": "ri51zMnujN-_",
        "outputId": "3b2ae078-472e-43f6-e51a-ed028ffdbef2"
      },
      "outputs": [
        {
          "data": {
            "image/png": "[encoded data removed]",
            "text/plain": [
              "<Figure size 1152x432 with 2 Axes>"
            ]
          },
          "metadata": {},
          "output_type": "display_data"
        },
        {
          "name": "stdout",
          "output_type": "stream",
          "text": [
            "[0.5626009014816464, 0.47324811754139684, 0.5113472489564898, 0.46080111118010453]\n"
          ]
        }
      ],
      "source": [
        "fig, ax = plt.subplots(ncols=2, figsize=(16,6))\n",
        "\n",
        "sns.scatterplot(x=cluster, y=wcss, ax=ax[0])\n",
        "sns.lineplot(x=cluster, y=wcss, ax=ax[0])\n",
        "\n",
        "ax[0].set_ylabel('Inertia/WCSS')\n",
        "ax[0].set_xlabel('No. of Clusters')\n",
        "\n",
        "ax[0].set_title('Elbow Method')\n",
        "\n",
        "sns.scatterplot(x=cluster, y=scores, ax=ax[1])\n",
        "sns.lineplot(x=cluster, y=scores, ax=ax[1])\n",
        "\n",
        "ax[1].set_ylabel('Silhouette Score')\n",
        "ax[1].set_xlabel('No. of Clusters')\n",
        "\n",
        "ax[1].set_title('Silhouette Score vs. No. of Clusters')\n",
        "plt.show()\n",
        "\n",
        "print(scores[:4])"
      ]
    },
    {
      "cell_type": "markdown",
      "metadata": {
        "id": "efkGW_sNH9Ce"
      },
      "source": [
        "As we can see from both plots above, it can be seen that the optimal number of clusters would be 4 clusters for segmenting the customers. Though 5 can also be a good cluster, but the silhouette score is smaller compared to 4 (if the silhouette score is near to one, it is better).\n",
        "\n",
        "The elbow method shows us the clustering capability of the model based on the distance of each data points to respective cluster centroids. While silhouette score shows us the clustering capability of the model based on the similarities of each data points in the same cluster.\n",
        "\n",
        "Next we will take a better look on evaluating the K-Means Clustering Algorithm using Silhouette Analysis. I reference this evaluation method from [towardsdatascience article](https://towardsdatascience.com/k-means-clustering-algorithm-applications-evaluation-methods-and-drawbacks-aa03e644b48a) by Imad Dabbura and [scikit-learn article](https://scikit-learn.org/stable/auto_examples/cluster/plot_kmeans_silhouette_analysis.html). Silhouette analysis simply observe the individual points' silhouette scores and compare them with the average silhouette score of the whole clustered data points which I think is good for getting some insight on our model."
      ]
    },
    {
      "cell_type": "code",
      "execution_count": 137,
      "metadata": {
        "colab": {
          "base_uri": "https://localhost:8080/",
          "height": 806
        },
        "id": "KEhO7DPJPHdj",
        "outputId": "7200ab01-bc5c-4a15-8c72-8a9925f935da"
      },
      "outputs": [
        {
          "data": {
            "image/png": "[encoded data removed]",
            "text/plain": [
              "<Figure size 1152x864 with 4 Axes>"
            ]
          },
          "metadata": {},
          "output_type": "display_data"
        }
      ],
      "source": [
        "from sklearn.metrics import silhouette_samples\n",
        "\n",
        "n_clusters = [2,3,4,5]\n",
        "\n",
        "fig, ax = plt.subplots(nrows=2,ncols=2, figsize=(16,12))\n",
        "\n",
        "row, col = 0, 0\n",
        "\n",
        "for i in range(4):\n",
        "  # KMeans\n",
        "  km = KMeans(n_clusters=n_clusters[i], random_state=rand)\n",
        "  preds = km.fit_predict(X)\n",
        "  centroids = km.cluster_centers_\n",
        "\n",
        "  # silhouette samples\n",
        "  silhouette_vals = silhouette_samples(X, preds)\n",
        "\n",
        "  # Silhouette plot\n",
        "  y_ticks = []\n",
        "  y_lower, y_upper = 0, 0\n",
        "  for j, cluster in enumerate(np.unique(preds)):\n",
        "      cluster_silhouette_vals = silhouette_vals[preds == cluster]\n",
        "      cluster_silhouette_vals.sort()\n",
        "      y_upper += len(cluster_silhouette_vals)\n",
        "      ax[row][col].barh(range(y_lower, y_upper), cluster_silhouette_vals, edgecolor='none', height=1)\n",
        "      ax[row][col].text(-0.03, (y_lower + y_upper) / 2, str(j + 1))\n",
        "      y_lower += len(cluster_silhouette_vals)\n",
        "\n",
        "  avg_score = np.mean(silhouette_vals)\n",
        "  ax[row][col].axvline(avg_score, linestyle='--', linewidth=2, color='green')\n",
        "  ax[row][col].set_yticks([])\n",
        "  ax[row][col].set_xlim([-0.1, 1])\n",
        "  ax[row][col].set_xlabel('Silhouette Score')\n",
        "  ax[row][col].set_ylabel('Cluster')\n",
        "  ax[row][col].set_title(str(n_clusters[i])+' clusters')\n",
        "\n",
        "  col+=1\n",
        "  if(col%2 == 0):\n",
        "    col=0\n",
        "    row+=1\n",
        "\n",
        "fig.suptitle('Silhouette Plots of Different Clusters')\n",
        "plt.show()"
      ]
    },
    {
      "cell_type": "markdown",
      "metadata": {
        "id": "TUU9VvdvhQTS"
      },
      "source": [
        "The silhouette analysis suggests that the optimal number of clusters is 4 since most of the data points that are clustered achieve silhouette scores above the average(green dotten line). Though both 2 and 3 clusters also shows similar results, but a lot of it are not clustered properly, indicated by a lot of the bars fall below the average silhouette score. In 5 clusters, there 1 or 2 clusters that most of them fall below the average silhouette score, another indication of poor clustering performance."
      ]
    },
    {
      "cell_type": "markdown",
      "metadata": {
        "id": "Qg0qQbdeORI-"
      },
      "source": [
        "##### DBSCAN\n",
        "DBSCAN works a little differently from KMeans, we do not need to specify the number of clusters since the algorithm will automatically converge and produce a suitable amount of cluster based on the dataset given, which is why I picked this as the second clustering model to train.\n",
        "\n",
        "The tuning process for DBSCAN will be similar to the K-Means, but here we will compare the eps (parameter that measures the maximum distance between two samples for one to be considered in the same neighborhood as the other, mentioned in the [documentation](https://scikit-learn.org/stable/modules/generated/sklearn.cluster.DBSCAN.html)) against the silhouette score of the model. This tuning was inspired from a [medium article](https://medium.com/@mohantysandip/a-step-by-step-approach-to-solve-dbscan-algorithms-by-tuning-its-hyper-parameters-93e693a91289) by Mohantysandip."
      ]
    },
    {
      "cell_type": "code",
      "execution_count": 138,
      "metadata": {
        "id": "UxIdoqDbORoi"
      },
      "outputs": [],
      "source": [
        "from sklearn.cluster import DBSCAN\n",
        "\n",
        "dists = np.linspace(0.5,5,10)\n",
        "scores = []\n",
        "\n",
        "for i in dists:\n",
        "  dbsc = DBSCAN(eps=i)\n",
        "\n",
        "  pred = dbsc.fit_predict(X)\n",
        "\n",
        "  scores.append(silhouette_score(X, pred))"
      ]
    },
    {
      "cell_type": "code",
      "execution_count": 139,
      "metadata": {
        "colab": {
          "base_uri": "https://localhost:8080/",
          "height": 410
        },
        "id": "Ga-peXmBJ-R5",
        "outputId": "c8309dd6-5de9-4ff5-c640-5476cf9fe4b9"
      },
      "outputs": [
        {
          "data": {
            "image/png": "[encoded data removed]",
            "text/plain": [
              "<Figure size 576x432 with 1 Axes>"
            ]
          },
          "metadata": {},
          "output_type": "display_data"
        }
      ],
      "source": [
        "fig, ax = plt.subplots(figsize=(8,6))\n",
        "\n",
        "sns.scatterplot(x=dists, y=scores)\n",
        "sns.lineplot(x=dists, y=scores)\n",
        "\n",
        "ax.set_xlabel('eps')\n",
        "ax.set_ylabel('Silhouette Score')\n",
        "\n",
        "ax.set_title('Silhouette Score vs. eps Increase in DBSCAN')\n",
        "plt.show()"
      ]
    },
    {
      "cell_type": "code",
      "execution_count": 140,
      "metadata": {
        "colab": {
          "base_uri": "https://localhost:8080/"
        },
        "id": "kx5hv9_lgIr1",
        "outputId": "e0d2cf81-5f39-40f9-d578-a6b8637782ce"
      },
      "outputs": [
        {
          "data": {
            "text/plain": [
              "0.5020873047205502"
            ]
          },
          "execution_count": 140,
          "metadata": {},
          "output_type": "execute_result"
        }
      ],
      "source": [
        "dbsc = DBSCAN(eps=2)\n",
        "\n",
        "pred=(dbsc.fit_predict(X))\n",
        "\n",
        "silhouette_score(X, pred)"
      ]
    },
    {
      "cell_type": "markdown",
      "metadata": {
        "id": "8P5syFJSOA1N"
      },
      "source": [
        "The best eps distance seems to be at `2` as per seen in the plot above which achieves a silhouette score of 0.552. Note that negative values of silhouette score means that the clustering fails to segment the data points in the right cluster.\n",
        "\n",
        "Due to the nature of DBSCAN which groups points based on the density, we cannot identify the cluster points, therefore silhouette analysis cannot be performed on DBSCAN. But, we can see the number of possible clusters by looking at the core samples that DBSCAN algorithm picked."
      ]
    },
    {
      "cell_type": "code",
      "execution_count": 147,
      "metadata": {
        "colab": {
          "base_uri": "https://localhost:8080/"
        },
        "id": "nzRCNGVRlu4c",
        "outputId": "4ff452d9-3dd2-4961-a184-93e301e002d9"
      },
      "outputs": [
        {
          "data": {
            "text/plain": [
              "{-1, 0, 1, 2, 3}"
            ]
          },
          "execution_count": 147,
          "metadata": {},
          "output_type": "execute_result"
        }
      ],
      "source": [
        "set(dbsc.labels_)"
      ]
    },
    {
      "cell_type": "markdown",
      "metadata": {
        "id": "kEpWdc6hl2Rc"
      },
      "source": [
        "As we can see, there are possibly 4 clusters formed when using the DBSCAN algorithm (`-1` indicates outliers which are not considered). This number of clusters is similar to the ones produced when using KMeans. Not only that, the silhouette scores are also similar when we compare both, around 0.51."
      ]
    },
    {
      "cell_type": "markdown",
      "metadata": {
        "id": "aRhSqnpdsGJr"
      },
      "source": [
        "#### Tuned Model Evaluation ***(3 c)***\n",
        "Based on the evaluation that were performed on both models, we can see that the optimal number of clusters in this case is 4. The silhouette score itself is relatively on the middle scale, meaning there is a lot room for improvement, which I think of the following steps:\n",
        "- **Dimensionality Reduction**. Our current prepared data are in high dimension due to the predictive features that we use for clustering. Clustering models suffer greatly from the curse of dimensionality. If we can perform dimensionality reduction (such as PCA), we might be able to get better clustering results and also visualize the cluster. We were not able to visualize the clusters due to the high dimensions (though possible by taking only 2 features and apply the cluster category to each points, but it might create visual bias).\n",
        "- **Selecting more reasonable features**. Instead of clustering all of customer's characteristics, We can just focus on certain characteristic that is useful for the department store to gain insight on. For example, segmenting customers based on their purchasing ability (`Salary`, `AmountSpent`, `History`), customer backgrounds (`Age`, `Location`, `OwnHome`), or possibly their purchasing preferences (`Catalogs` but more specific data needed for this case, like what are the catalogs they buy).\n",
        "\n",
        "Thinking fundamentally, in clustering, there are no clear metric for evaluating the model's performance as different environment (dataset) and parametric (model) settings will bring different results. Clustering really rely on the objective that we are trying to achieve in performing clustering, and from there, we can decide all kinds of determining features that are necessary for us to consider feeding to the clustering model. Afterwards, receiving cluster groups that is suitable for our initial goal."
      ]
    }
  ],
  "metadata": {
    "colab": {
      "collapsed_sections": [],
      "name": "UAS ML.ipynb",
      "provenance": [],
      "toc_visible": true
    },
    "kernelspec": {
      "display_name": "Python 3",
      "name": "python3"
    },
    "language_info": {
      "name": "python"
    }
  },
  "nbformat": 4,
  "nbformat_minor": 0
}
